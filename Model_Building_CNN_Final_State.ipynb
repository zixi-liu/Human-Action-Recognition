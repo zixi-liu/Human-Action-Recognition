{
 "cells": [
  {
   "cell_type": "markdown",
   "id": "8e0091b7",
   "metadata": {},
   "source": [
    "### Data Loading\n",
    "\n",
    "This part is same as the code in Data_Cleaning_Fayeh"
   ]
  },
  {
   "cell_type": "code",
   "execution_count": 19,
   "id": "80ed0086",
   "metadata": {},
   "outputs": [
    {
     "name": "stderr",
     "output_type": "stream",
     "text": [
      "/var/folders/1k/nx71_3fn3258zqsq8yky0fp46_qmw5/T/ipykernel_89423/611486857.py:12: MatplotlibDeprecationWarning: The seaborn styles shipped by Matplotlib are deprecated since 3.6, as they no longer correspond to the styles shipped by seaborn. However, they will remain available as 'seaborn-v0_8-<style>'. Alternatively, directly use the seaborn API instead.\n",
      "  plt.style.use('seaborn-whitegrid')\n"
     ]
    }
   ],
   "source": [
    "# import libraries\n",
    "import numpy as np\n",
    "import pandas as pd\n",
    "import scipy.stats as stats\n",
    "import torch\n",
    "import torch.utils.data as d\n",
    "from sklearn.preprocessing import StandardScaler\n",
    "import matplotlib.pyplot as plt\n",
    "import seaborn as sns\n",
    "from tqdm import tqdm\n",
    "%matplotlib inline\n",
    "plt.style.use('seaborn-whitegrid')\n",
    "sns.set_style(\"white\")"
   ]
  },
  {
   "cell_type": "code",
   "execution_count": 7,
   "id": "dc2eb662",
   "metadata": {},
   "outputs": [],
   "source": [
    "# create data directories\n",
     "dataset_dir='/home/coder/workspace/UCI HAR Dataset'\n",
    "signal_class = [\n",
    "        'body_acc_x_',\n",
    "        'body_acc_y_',\n",
    "        'body_acc_z_',\n",
    "        'body_gyro_x_',\n",
    "        'body_gyro_y_',\n",
    "        'body_gyro_z_',\n",
    "        'total_acc_x_',\n",
    "        'total_acc_y_',\n",
    "        'total_acc_z_']\n",
    "X_train_path = [dataset_dir + '/train/Inertial Signals/' + signal + 'train.txt' for signal in signal_class]\n",
    "X_test_path = [dataset_dir + '/test/Inertial Signals/' + signal + 'test.txt' for signal in signal_class]\n",
    "Y_train_path = dataset_dir + '/train/y_train.txt'\n",
    "Y_test_path = dataset_dir + '/test/y_test.txt'"
   ]
  },
  {
   "cell_type": "code",
   "execution_count": 8,
   "id": "71b06261",
   "metadata": {},
   "outputs": [],
   "source": [
    "# what are the activity labels (substract 1 to each output class for friendly 0-based indexing)\n",
    "activity = {\n",
    "        0: 'Walking',\n",
    "        1: 'Walking Upstairs',\n",
    "        2: 'Walking Downstairs',\n",
    "        3: 'Sitting',\n",
    "        4: 'Standing',\n",
    "        5: 'Laying'}"
   ]
  },
  {
   "cell_type": "code",
   "execution_count": 140,
   "id": "0d8cf327",
   "metadata": {},
   "outputs": [],
   "source": [
    "class Data(d.Dataset):\n",
    "    def __init__(self, X_filepath: list, Y_filepath: str):\n",
    "        \"\"\"\n",
    "        We initialize the directory containing the training and test file. \n",
    "        For example, one of my local file path for X_filepath is '/Users/zliu/Downloads/HAR_Data/UCI_HAR_Dataset/train/Inertial_Signals/body_acc_x_train.txt'\n",
    "        \n",
    "        \"\"\"\n",
    "        self.X_filepath = X_filepath\n",
    "        self.Y_filepath = Y_filepath\n",
    "\n",
    "    def load_data(self):\n",
    "        \"\"\"\n",
    "        We load data from file paths and return X_data and Y_data.\n",
    "        \n",
    "        \"\"\"\n",
    "        \n",
    "        print(\"Loading Data from following directories:\")\n",
    "        print(\"\\n\")\n",
    "        [print(p + \"\\n\") for p in self.X_filepath]\n",
    "        print(self.Y_filepath)    \n",
    "        \n",
    "        def xload(X_path):\n",
    "            x = []\n",
    "            for each in X_path:\n",
    "                with open(each, 'r') as f:\n",
    "                    x.append(np.array([eachline.replace('  ', ' ').strip().split(' ') for eachline in f], dtype=np.float32))\n",
    "            x = np.transpose(x, (1, 2, 0))\n",
    "            return x\n",
    "\n",
    "        def yload(Y_path):\n",
    "            y = pd.read_csv(Y_path, header=None).to_numpy().reshape(-1)\n",
    "            \n",
    "            # Substract 1 to each output class for friendly 0-based indexing\n",
    "            return y - 1  \n",
    "\n",
    "        X_data = xload(self.X_filepath)\n",
    "        Y_data = yload(self.Y_filepath)\n",
    "        \n",
    "        print(\"\\nFinish Data Load\")\n",
    "        \n",
    "        return X_data, Y_data\n",
    "        \n",
    "        \n",
    "    def load_data_torch(self, X_data, Y_data):\n",
    "        \"\"\"\n",
    "        Load data into torch tensor.\n",
    "        \"\"\"\n",
    "    \n",
    "        torch_data = d.TensorDataset(torch.from_numpy(X_data).float().unsqueeze(1), torch.from_numpy(Y_data).long())\n",
    "        \n",
    "        return torch_data"
   ]
  },
  {
   "cell_type": "code",
   "execution_count": 10,
   "id": "93365fdd",
   "metadata": {},
   "outputs": [
    {
     "name": "stdout",
     "output_type": "stream",
     "text": [
     "Loading Data from following directories:\n",
      "\n",
      "\n",
      "/home/coder/workspace/UCI HAR Dataset/train/Inertial Signals/body_acc_x_train.txt\n",
      "\n",
      "/home/coder/workspace/UCI HAR Dataset/train/Inertial Signals/body_acc_y_train.txt\n",
      "\n",
      "/home/coder/workspace/UCI HAR Dataset/train/Inertial Signals/body_acc_z_train.txt\n",
      "\n",
      "/home/coder/workspace/UCI HAR Dataset/train/Inertial Signals/body_gyro_x_train.txt\n",
      "\n",
      "/home/coder/workspace/UCI HAR Dataset/train/Inertial Signals/body_gyro_y_train.txt\n",
      "\n",
      "/home/coder/workspace/UCI HAR Dataset/train/Inertial Signals/body_gyro_z_train.txt\n",
      "\n",
      "/home/coder/workspace/UCI HAR Dataset/train/Inertial Signals/total_acc_x_train.txt\n",
      "\n",
      "/home/coder/workspace/UCI HAR Dataset/train/Inertial Signals/total_acc_y_train.txt\n",
      "\n",
      "/home/coder/workspace/UCI HAR Dataset/train/Inertial Signals/total_acc_z_train.txt\n",
      "\n",
      "/home/coder/workspace/UCI HAR Dataset/train/y_train.txt\n",
      "\n",
      "Finish Data Load\n",
      "Loading Data from following directories:\n",
      "\n",
      "\n",
      "/home/coder/workspace/UCI HAR Dataset/test/Inertial Signals/body_acc_x_test.txt\n",
      "\n",
      "/home/coder/workspace/UCI HAR Dataset/test/Inertial Signals/body_acc_y_test.txt\n",
      "\n",
      "/home/coder/workspace/UCI HAR Dataset/test/Inertial Signals/body_acc_z_test.txt\n",
      "\n",
      "/home/coder/workspace/UCI HAR Dataset/test/Inertial Signals/body_gyro_x_test.txt\n",
      "\n",
      "/home/coder/workspace/UCI HAR Dataset/test/Inertial Signals/body_gyro_y_test.txt\n",
      "\n",
      "/home/coder/workspace/UCI HAR Dataset/test/Inertial Signals/body_gyro_z_test.txt\n",
      "\n",
      "/home/coder/workspace/UCI HAR Dataset/test/Inertial Signals/total_acc_x_test.txt\n",
      "\n",
      "/home/coder/workspace/UCI HAR Dataset/test/Inertial Signals/total_acc_y_test.txt\n",
      "\n",
      "/home/coder/workspace/UCI HAR Dataset/test/Inertial Signals/total_acc_z_test.txt\n",
      "\n",
      "/home/coder/workspace/UCI HAR Dataset/test/y_test.txt\n",
      "\n",
      "Finish Data Load\n"
     ]
    }
   ],
   "source": [
    "# Load the data from file paths\n",
    "data_train = Data(X_train_path, Y_train_path)\n",
    "X_train, Y_train = data_train.load_data()\n",
    "\n",
    "data_test = Data(X_test_path, Y_test_path)\n",
    "X_test, Y_test = data_test.load_data()"
   ]
  },
  {
   "cell_type": "code",
   "execution_count": 141,
   "id": "75609d93",
   "metadata": {},
   "outputs": [],
   "source": [
    "# Load the data into torch tensors\n",
    "data_train = Data(X_train_path, Y_train_path)\n",
    "data_train_tensor = data_train.load_data_torch(X_train, Y_train)\n",
    "\n",
    "data_test = Data(X_test_path, Y_test_path)\n",
    "data_test_tensor = data_test.load_data_torch(X_test, Y_test)"
   ]
  },
  {
   "cell_type": "code",
   "execution_count": 60,
   "id": "29ddd1c4",
   "metadata": {},
   "outputs": [],
   "source": [
    "category = len(set(Y_test.tolist()))"
   ]
  },
  {
   "cell_type": "code",
   "execution_count": 137,
   "id": "4ef580b7",
   "metadata": {},
   "outputs": [],
   "source": [
    "train_loader = d.DataLoader(dataset = data_train_tensor, batch_size = 128,\n",
    "                               shuffle = True, num_workers = 4)\n",
    "test_loader = d.DataLoader(dataset = data_test_tensor, batch_size = 128,\n",
    "                               shuffle = True, num_workers = 4)"
   ]
  },
  {
   "cell_type": "markdown",
   "id": "11d33407",
   "metadata": {},
   "source": [
    "### Build a CNN Model\n",
    "\n",
    "Note that in this pratice I did not standardize the data because the CNN model performance was better when I train the model with raw data. Instead, we use batch normalization to standardize data during training.\n",
    "\n",
    "#### How to define the Model Architecture?\n",
    "\n",
    "- Conv2d Layers\n",
    "    - Our in channel is 1 since each observation has a (9*128) matrix as feature. It's different from image processing where there are three color channels (RGB) where in channel is 3.\n",
    "    - We use a kernel as (3, 1) which will move over the whole feature matrix. We use a stride of (2,1) and padding as (1,0).\n",
    "    \n",
    "- Batch Normalization\n",
    "    - It starts off by z-score normalizing all data points in the batch training data. Batch normalization reduces the amount by what the hidden unit values shift around (covariance shift) and therefore speed up training.\n",
    "    \n",
    "- ReLU Activation\n",
    "    - It's a popular activation function to overcome the vanishing gradients problems.\n",
    "    \n",
    "- Adaptive Average Pooling\n",
    "    - A 2-D adaptive average pooling layer performs downsampling to give us the desired output size by dividing the input into rectangular pooling regions, then computing the average of each region.\n"
   ]
  },
  {
   "cell_type": "code",
   "execution_count": 144,
   "id": "7ea59020",
   "metadata": {},
   "outputs": [],
   "source": [
    "import torch.nn as nn\n",
    "class CNN(nn.Module):\n",
    "    def __init__(self, train_shape, category):\n",
    "        super(CNN, self).__init__()\n",
    "        \n",
    "        self.layer = nn.Sequential(\n",
    "            nn.Conv2d(1, 64, (3, 1), (2, 1), (1, 0)),\n",
    "            nn.BatchNorm2d(64),\n",
    "            nn.ReLU(),\n",
    "\n",
    "            nn.Conv2d(64, 128, (3, 1), (2, 1), (1, 0)),\n",
    "            nn.BatchNorm2d(128),\n",
    "            nn.ReLU(),\n",
    "\n",
    "            nn.Conv2d(128, 256, (3, 1), (2, 1), (1, 0)),\n",
    "            nn.BatchNorm2d(256),\n",
    "            nn.ReLU(),\n",
    "\n",
    "            nn.Conv2d(256, 512, (3, 1), (2, 1), (1, 0)),\n",
    "            nn.BatchNorm2d(512),\n",
    "            nn.ReLU()\n",
    "        )\n",
    "        self.ada_pool = nn.AdaptiveAvgPool2d((1, train_shape[-1]))\n",
    "        self.fc = nn.Linear(512*train_shape[-1], category)\n",
    "        \n",
    "    def forward(self, x):\n",
    "        '''\n",
    "            x.shape: [b, c, series, modal]\n",
    "        '''\n",
    "        x = self.layer(x)\n",
    "        x = self.ada_pool(x)\n",
    "        x = x.view(x.size(0), -1)\n",
    "        x = self.fc(x)\n",
    "        return x"
   ]
  },
  {
   "cell_type": "code",
   "execution_count": 145,
   "id": "9fde767d",
   "metadata": {},
   "outputs": [
    {
     "name": "stdout",
     "output_type": "stream",
     "text": [
      "\n",
      "==================================================   Training   ===================================================\n",
      "\n"
     ]
    },
    {
     "name": "stderr",
     "output_type": "stream",
     "text": [
      "python(66323) MallocStackLogging: can't turn off malloc stack logging because it was not enabled.\n",
      "python(66324) MallocStackLogging: can't turn off malloc stack logging because it was not enabled.\n",
      "python(66325) MallocStackLogging: can't turn off malloc stack logging because it was not enabled.\n",
      "python(66326) MallocStackLogging: can't turn off malloc stack logging because it was not enabled.\n",
      "python(66954) MallocStackLogging: can't turn off malloc stack logging because it was not enabled.\n",
      "python(66955) MallocStackLogging: can't turn off malloc stack logging because it was not enabled.\n",
      "python(66956) MallocStackLogging: can't turn off malloc stack logging because it was not enabled.\n",
      "python(66957) MallocStackLogging: can't turn off malloc stack logging because it was not enabled.\n"
     ]
    },
    {
     "name": "stdout",
     "output_type": "stream",
     "text": [
      "epoch: 0, train-loss: 0.111865, val-acc: 0.846624\n"
     ]
    },
    {
     "name": "stderr",
     "output_type": "stream",
     "text": [
      "python(67107) MallocStackLogging: can't turn off malloc stack logging because it was not enabled.\n",
      "python(67108) MallocStackLogging: can't turn off malloc stack logging because it was not enabled.\n",
      "python(67109) MallocStackLogging: can't turn off malloc stack logging because it was not enabled.\n",
      "python(67110) MallocStackLogging: can't turn off malloc stack logging because it was not enabled.\n",
      "python(68165) MallocStackLogging: can't turn off malloc stack logging because it was not enabled.\n",
      "python(68166) MallocStackLogging: can't turn off malloc stack logging because it was not enabled.\n",
      "python(68168) MallocStackLogging: can't turn off malloc stack logging because it was not enabled.\n",
      "python(68170) MallocStackLogging: can't turn off malloc stack logging because it was not enabled.\n"
     ]
    },
    {
     "name": "stdout",
     "output_type": "stream",
     "text": [
      "epoch: 1, train-loss: 0.151138, val-acc: 0.914150\n"
     ]
    },
    {
     "name": "stderr",
     "output_type": "stream",
     "text": [
      "python(68400) MallocStackLogging: can't turn off malloc stack logging because it was not enabled.\n",
      "python(68401) MallocStackLogging: can't turn off malloc stack logging because it was not enabled.\n",
      "python(68403) MallocStackLogging: can't turn off malloc stack logging because it was not enabled.\n",
      "python(68404) MallocStackLogging: can't turn off malloc stack logging because it was not enabled.\n",
      "python(69369) MallocStackLogging: can't turn off malloc stack logging because it was not enabled.\n",
      "python(69370) MallocStackLogging: can't turn off malloc stack logging because it was not enabled.\n",
      "python(69371) MallocStackLogging: can't turn off malloc stack logging because it was not enabled.\n",
      "python(69372) MallocStackLogging: can't turn off malloc stack logging because it was not enabled.\n"
     ]
    },
    {
     "name": "stdout",
     "output_type": "stream",
     "text": [
      "epoch: 2, train-loss: 0.081132, val-acc: 0.931456\n"
     ]
    },
    {
     "name": "stderr",
     "output_type": "stream",
     "text": [
      "python(69521) MallocStackLogging: can't turn off malloc stack logging because it was not enabled.\n",
      "python(69523) MallocStackLogging: can't turn off malloc stack logging because it was not enabled.\n",
      "python(69524) MallocStackLogging: can't turn off malloc stack logging because it was not enabled.\n",
      "python(69525) MallocStackLogging: can't turn off malloc stack logging because it was not enabled.\n",
      "python(70275) MallocStackLogging: can't turn off malloc stack logging because it was not enabled.\n",
      "python(70277) MallocStackLogging: can't turn off malloc stack logging because it was not enabled.\n",
      "python(70278) MallocStackLogging: can't turn off malloc stack logging because it was not enabled.\n",
      "python(70280) MallocStackLogging: can't turn off malloc stack logging because it was not enabled.\n"
     ]
    },
    {
     "name": "stdout",
     "output_type": "stream",
     "text": [
      "epoch: 3, train-loss: 0.082117, val-acc: 0.929420\n"
     ]
    },
    {
     "name": "stderr",
     "output_type": "stream",
     "text": [
      "python(70432) MallocStackLogging: can't turn off malloc stack logging because it was not enabled.\n",
      "python(70434) MallocStackLogging: can't turn off malloc stack logging because it was not enabled.\n",
      "python(70436) MallocStackLogging: can't turn off malloc stack logging because it was not enabled.\n",
      "python(70437) MallocStackLogging: can't turn off malloc stack logging because it was not enabled.\n",
      "python(71340) MallocStackLogging: can't turn off malloc stack logging because it was not enabled.\n",
      "python(71341) MallocStackLogging: can't turn off malloc stack logging because it was not enabled.\n",
      "python(71344) MallocStackLogging: can't turn off malloc stack logging because it was not enabled.\n",
      "python(71347) MallocStackLogging: can't turn off malloc stack logging because it was not enabled.\n"
     ]
    },
    {
     "name": "stdout",
     "output_type": "stream",
     "text": [
      "epoch: 4, train-loss: 0.054273, val-acc: 0.906345\n"
     ]
    },
    {
     "name": "stderr",
     "output_type": "stream",
     "text": [
      "python(71469) MallocStackLogging: can't turn off malloc stack logging because it was not enabled.\n",
      "python(71470) MallocStackLogging: can't turn off malloc stack logging because it was not enabled.\n",
      "python(71471) MallocStackLogging: can't turn off malloc stack logging because it was not enabled.\n",
      "python(71472) MallocStackLogging: can't turn off malloc stack logging because it was not enabled.\n",
      "python(72234) MallocStackLogging: can't turn off malloc stack logging because it was not enabled.\n",
      "python(72239) MallocStackLogging: can't turn off malloc stack logging because it was not enabled.\n",
      "python(72240) MallocStackLogging: can't turn off malloc stack logging because it was not enabled.\n",
      "python(72248) MallocStackLogging: can't turn off malloc stack logging because it was not enabled.\n"
     ]
    },
    {
     "name": "stdout",
     "output_type": "stream",
     "text": [
      "epoch: 5, train-loss: 0.098642, val-acc: 0.933831\n"
     ]
    },
    {
     "name": "stderr",
     "output_type": "stream",
     "text": [
      "python(72584) MallocStackLogging: can't turn off malloc stack logging because it was not enabled.\n",
      "python(72585) MallocStackLogging: can't turn off malloc stack logging because it was not enabled.\n",
      "python(72587) MallocStackLogging: can't turn off malloc stack logging because it was not enabled.\n",
      "python(72588) MallocStackLogging: can't turn off malloc stack logging because it was not enabled.\n",
      "python(73622) MallocStackLogging: can't turn off malloc stack logging because it was not enabled.\n",
      "python(73623) MallocStackLogging: can't turn off malloc stack logging because it was not enabled.\n",
      "python(73626) MallocStackLogging: can't turn off malloc stack logging because it was not enabled.\n",
      "python(73627) MallocStackLogging: can't turn off malloc stack logging because it was not enabled.\n"
     ]
    },
    {
     "name": "stdout",
     "output_type": "stream",
     "text": [
      "epoch: 6, train-loss: 0.109948, val-acc: 0.939260\n"
     ]
    },
    {
     "name": "stderr",
     "output_type": "stream",
     "text": [
      "python(73747) MallocStackLogging: can't turn off malloc stack logging because it was not enabled.\n",
      "python(73753) MallocStackLogging: can't turn off malloc stack logging because it was not enabled.\n",
      "python(73757) MallocStackLogging: can't turn off malloc stack logging because it was not enabled.\n",
      "python(73763) MallocStackLogging: can't turn off malloc stack logging because it was not enabled.\n",
      "python(75540) MallocStackLogging: can't turn off malloc stack logging because it was not enabled.\n",
      "python(75541) MallocStackLogging: can't turn off malloc stack logging because it was not enabled.\n",
      "python(75542) MallocStackLogging: can't turn off malloc stack logging because it was not enabled.\n",
      "python(75543) MallocStackLogging: can't turn off malloc stack logging because it was not enabled.\n"
     ]
    },
    {
     "name": "stdout",
     "output_type": "stream",
     "text": [
      "epoch: 7, train-loss: 0.070837, val-acc: 0.941636\n"
     ]
    },
    {
     "name": "stderr",
     "output_type": "stream",
     "text": [
      "python(75688) MallocStackLogging: can't turn off malloc stack logging because it was not enabled.\n",
      "python(75689) MallocStackLogging: can't turn off malloc stack logging because it was not enabled.\n",
      "python(75690) MallocStackLogging: can't turn off malloc stack logging because it was not enabled.\n",
      "python(75691) MallocStackLogging: can't turn off malloc stack logging because it was not enabled.\n",
      "python(76862) MallocStackLogging: can't turn off malloc stack logging because it was not enabled.\n",
      "python(76863) MallocStackLogging: can't turn off malloc stack logging because it was not enabled.\n",
      "python(76864) MallocStackLogging: can't turn off malloc stack logging because it was not enabled.\n",
      "python(76865) MallocStackLogging: can't turn off malloc stack logging because it was not enabled.\n"
     ]
    },
    {
     "name": "stdout",
     "output_type": "stream",
     "text": [
      "epoch: 8, train-loss: 0.063523, val-acc: 0.948761\n"
     ]
    },
    {
     "name": "stderr",
     "output_type": "stream",
     "text": [
      "python(77005) MallocStackLogging: can't turn off malloc stack logging because it was not enabled.\n",
      "python(77006) MallocStackLogging: can't turn off malloc stack logging because it was not enabled.\n",
      "python(77008) MallocStackLogging: can't turn off malloc stack logging because it was not enabled.\n",
      "python(77009) MallocStackLogging: can't turn off malloc stack logging because it was not enabled.\n",
      "python(79761) MallocStackLogging: can't turn off malloc stack logging because it was not enabled.\n",
      "python(79764) MallocStackLogging: can't turn off malloc stack logging because it was not enabled.\n",
      "python(79765) MallocStackLogging: can't turn off malloc stack logging because it was not enabled.\n",
      "python(79766) MallocStackLogging: can't turn off malloc stack logging because it was not enabled.\n"
     ]
    },
    {
     "name": "stdout",
     "output_type": "stream",
     "text": [
      "epoch: 9, train-loss: 0.048786, val-acc: 0.950119\n"
     ]
    },
    {
     "name": "stderr",
     "output_type": "stream",
     "text": [
      "python(79896) MallocStackLogging: can't turn off malloc stack logging because it was not enabled.\n",
      "python(79897) MallocStackLogging: can't turn off malloc stack logging because it was not enabled.\n",
      "python(79898) MallocStackLogging: can't turn off malloc stack logging because it was not enabled.\n",
      "python(79899) MallocStackLogging: can't turn off malloc stack logging because it was not enabled.\n",
      "python(80667) MallocStackLogging: can't turn off malloc stack logging because it was not enabled.\n",
      "python(80668) MallocStackLogging: can't turn off malloc stack logging because it was not enabled.\n",
      "python(80669) MallocStackLogging: can't turn off malloc stack logging because it was not enabled.\n",
      "python(80671) MallocStackLogging: can't turn off malloc stack logging because it was not enabled.\n"
     ]
    },
    {
     "name": "stdout",
     "output_type": "stream",
     "text": [
      "epoch: 10, train-loss: 0.110658, val-acc: 0.952833\n"
     ]
    },
    {
     "name": "stderr",
     "output_type": "stream",
     "text": [
      "python(80813) MallocStackLogging: can't turn off malloc stack logging because it was not enabled.\n",
      "python(80814) MallocStackLogging: can't turn off malloc stack logging because it was not enabled.\n",
      "python(80815) MallocStackLogging: can't turn off malloc stack logging because it was not enabled.\n",
      "python(80817) MallocStackLogging: can't turn off malloc stack logging because it was not enabled.\n",
      "python(82016) MallocStackLogging: can't turn off malloc stack logging because it was not enabled.\n",
      "python(82017) MallocStackLogging: can't turn off malloc stack logging because it was not enabled.\n",
      "python(82023) MallocStackLogging: can't turn off malloc stack logging because it was not enabled.\n",
      "python(82024) MallocStackLogging: can't turn off malloc stack logging because it was not enabled.\n"
     ]
    },
    {
     "name": "stdout",
     "output_type": "stream",
     "text": [
      "epoch: 11, train-loss: 0.020160, val-acc: 0.949779\n"
     ]
    },
    {
     "name": "stderr",
     "output_type": "stream",
     "text": [
      "python(82179) MallocStackLogging: can't turn off malloc stack logging because it was not enabled.\n",
      "python(82182) MallocStackLogging: can't turn off malloc stack logging because it was not enabled.\n",
      "python(82184) MallocStackLogging: can't turn off malloc stack logging because it was not enabled.\n",
      "python(82186) MallocStackLogging: can't turn off malloc stack logging because it was not enabled.\n",
      "python(83128) MallocStackLogging: can't turn off malloc stack logging because it was not enabled.\n",
      "python(83130) MallocStackLogging: can't turn off malloc stack logging because it was not enabled.\n",
      "python(83131) MallocStackLogging: can't turn off malloc stack logging because it was not enabled.\n",
      "python(83132) MallocStackLogging: can't turn off malloc stack logging because it was not enabled.\n"
     ]
    },
    {
     "name": "stdout",
     "output_type": "stream",
     "text": [
      "epoch: 12, train-loss: 0.007592, val-acc: 0.958941\n"
     ]
    },
    {
     "name": "stderr",
     "output_type": "stream",
     "text": [
      "python(83325) MallocStackLogging: can't turn off malloc stack logging because it was not enabled.\n",
      "python(83328) MallocStackLogging: can't turn off malloc stack logging because it was not enabled.\n",
      "python(83329) MallocStackLogging: can't turn off malloc stack logging because it was not enabled.\n",
      "python(83332) MallocStackLogging: can't turn off malloc stack logging because it was not enabled.\n",
      "python(83979) MallocStackLogging: can't turn off malloc stack logging because it was not enabled.\n",
      "python(83980) MallocStackLogging: can't turn off malloc stack logging because it was not enabled.\n",
      "python(83981) MallocStackLogging: can't turn off malloc stack logging because it was not enabled.\n",
      "python(83982) MallocStackLogging: can't turn off malloc stack logging because it was not enabled.\n"
     ]
    },
    {
     "name": "stdout",
     "output_type": "stream",
     "text": [
      "epoch: 13, train-loss: 0.056895, val-acc: 0.956566\n"
     ]
    },
    {
     "name": "stderr",
     "output_type": "stream",
     "text": [
      "python(84106) MallocStackLogging: can't turn off malloc stack logging because it was not enabled.\n",
      "python(84108) MallocStackLogging: can't turn off malloc stack logging because it was not enabled.\n",
      "python(84109) MallocStackLogging: can't turn off malloc stack logging because it was not enabled.\n",
      "python(84110) MallocStackLogging: can't turn off malloc stack logging because it was not enabled.\n",
      "python(84713) MallocStackLogging: can't turn off malloc stack logging because it was not enabled.\n",
      "python(84714) MallocStackLogging: can't turn off malloc stack logging because it was not enabled.\n",
      "python(84715) MallocStackLogging: can't turn off malloc stack logging because it was not enabled.\n",
      "python(84716) MallocStackLogging: can't turn off malloc stack logging because it was not enabled.\n"
     ]
    },
    {
     "name": "stdout",
     "output_type": "stream",
     "text": [
      "epoch: 14, train-loss: 0.018492, val-acc: 0.960299\n"
     ]
    },
    {
     "name": "stderr",
     "output_type": "stream",
     "text": [
      "python(84937) MallocStackLogging: can't turn off malloc stack logging because it was not enabled.\n",
      "python(84938) MallocStackLogging: can't turn off malloc stack logging because it was not enabled.\n",
      "python(84939) MallocStackLogging: can't turn off malloc stack logging because it was not enabled.\n",
      "python(84940) MallocStackLogging: can't turn off malloc stack logging because it was not enabled.\n",
      "python(85728) MallocStackLogging: can't turn off malloc stack logging because it was not enabled.\n",
      "python(85729) MallocStackLogging: can't turn off malloc stack logging because it was not enabled.\n",
      "python(85731) MallocStackLogging: can't turn off malloc stack logging because it was not enabled.\n",
      "python(85732) MallocStackLogging: can't turn off malloc stack logging because it was not enabled.\n"
     ]
    },
    {
     "name": "stdout",
     "output_type": "stream",
     "text": [
      "epoch: 15, train-loss: 0.046610, val-acc: 0.958263\n"
     ]
    },
    {
     "name": "stderr",
     "output_type": "stream",
     "text": [
      "python(85871) MallocStackLogging: can't turn off malloc stack logging because it was not enabled.\n",
      "python(85872) MallocStackLogging: can't turn off malloc stack logging because it was not enabled.\n",
      "python(85873) MallocStackLogging: can't turn off malloc stack logging because it was not enabled.\n",
      "python(85876) MallocStackLogging: can't turn off malloc stack logging because it was not enabled.\n",
      "python(86673) MallocStackLogging: can't turn off malloc stack logging because it was not enabled.\n",
      "python(86674) MallocStackLogging: can't turn off malloc stack logging because it was not enabled.\n",
      "python(86676) MallocStackLogging: can't turn off malloc stack logging because it was not enabled.\n",
      "python(86678) MallocStackLogging: can't turn off malloc stack logging because it was not enabled.\n"
     ]
    },
    {
     "name": "stdout",
     "output_type": "stream",
     "text": [
      "epoch: 16, train-loss: 0.011009, val-acc: 0.951137\n"
     ]
    },
    {
     "name": "stderr",
     "output_type": "stream",
     "text": [
      "python(86868) MallocStackLogging: can't turn off malloc stack logging because it was not enabled.\n",
      "python(86872) MallocStackLogging: can't turn off malloc stack logging because it was not enabled.\n",
      "python(86874) MallocStackLogging: can't turn off malloc stack logging because it was not enabled.\n",
      "python(86877) MallocStackLogging: can't turn off malloc stack logging because it was not enabled.\n",
      "python(87864) MallocStackLogging: can't turn off malloc stack logging because it was not enabled.\n",
      "python(87865) MallocStackLogging: can't turn off malloc stack logging because it was not enabled.\n",
      "python(87866) MallocStackLogging: can't turn off malloc stack logging because it was not enabled.\n",
      "python(87867) MallocStackLogging: can't turn off malloc stack logging because it was not enabled.\n"
     ]
    },
    {
     "name": "stdout",
     "output_type": "stream",
     "text": [
      "epoch: 17, train-loss: 0.039628, val-acc: 0.952155\n"
     ]
    },
    {
     "name": "stderr",
     "output_type": "stream",
     "text": [
      "python(88036) MallocStackLogging: can't turn off malloc stack logging because it was not enabled.\n",
      "python(88037) MallocStackLogging: can't turn off malloc stack logging because it was not enabled.\n",
      "python(88039) MallocStackLogging: can't turn off malloc stack logging because it was not enabled.\n",
      "python(88040) MallocStackLogging: can't turn off malloc stack logging because it was not enabled.\n",
      "python(88749) MallocStackLogging: can't turn off malloc stack logging because it was not enabled.\n",
      "python(88750) MallocStackLogging: can't turn off malloc stack logging because it was not enabled.\n",
      "python(88751) MallocStackLogging: can't turn off malloc stack logging because it was not enabled.\n",
      "python(88752) MallocStackLogging: can't turn off malloc stack logging because it was not enabled.\n"
     ]
    },
    {
     "name": "stdout",
     "output_type": "stream",
     "text": [
      "epoch: 18, train-loss: 0.021581, val-acc: 0.959281\n"
     ]
    },
    {
     "name": "stderr",
     "output_type": "stream",
     "text": [
      "python(88878) MallocStackLogging: can't turn off malloc stack logging because it was not enabled.\n",
      "python(88879) MallocStackLogging: can't turn off malloc stack logging because it was not enabled.\n",
      "python(88880) MallocStackLogging: can't turn off malloc stack logging because it was not enabled.\n",
      "python(88881) MallocStackLogging: can't turn off malloc stack logging because it was not enabled.\n",
      "python(89945) MallocStackLogging: can't turn off malloc stack logging because it was not enabled.\n",
      "python(89947) MallocStackLogging: can't turn off malloc stack logging because it was not enabled.\n",
      "python(89950) MallocStackLogging: can't turn off malloc stack logging because it was not enabled.\n",
      "python(89951) MallocStackLogging: can't turn off malloc stack logging because it was not enabled.\n"
     ]
    },
    {
     "name": "stdout",
     "output_type": "stream",
     "text": [
      "epoch: 19, train-loss: 0.009416, val-acc: 0.958941\n"
     ]
    }
   ],
   "source": [
    "# We ran a few rounds of hyperparameter tuning, and let the CNN train with a learning rate of 0.0005 and run 20 epochs.\n",
    "\n",
    "from torch.cuda.amp import GradScaler, autocast\n",
    "LR = 0.0005\n",
    "num_epochs = 20\n",
    "net = CNN(X_train.shape, category)\n",
    "optimizer = torch.optim.AdamW(net.parameters(), lr=LR, weight_decay=0.001)\n",
    "lr_sch = torch.optim.lr_scheduler.StepLR(optimizer, num_epochs//3, 0.5)\n",
    "loss_fn = nn.CrossEntropyLoss()\n",
    "scaler = GradScaler() \n",
    "print('\\n==================================================   Training   ===================================================\\n')\n",
    "acc_train, loss_train, acc_val, loss_val = [], [], [], []\n",
    "best_accr, early_stop, steps = 0, 0, 0\n",
    "for i in range(num_epochs):\n",
    "    \n",
    "    ############### Training ###############\n",
    "    # Initialize\n",
    "    net.train()\n",
    "    cor = 0\n",
    "    loss_tmp, loss_cnt, acc_tmp = 0, 0, 0\n",
    "    \n",
    "    for data, label in train_loader:\n",
    "        data, label = data, label\n",
    "        \n",
    "        with autocast():\n",
    "            out = net(data)\n",
    "            loss = loss_fn(out, label)\n",
    "        _, pre = torch.max(out, 1)\n",
    "        cor += (pre == label).sum()\n",
    "        \n",
    "        # training loss\n",
    "        loss_tmp += loss.item()\n",
    "        loss_cnt += 1\n",
    "        \n",
    "        optimizer.zero_grad() \n",
    "        scaler.scale(loss).backward() \n",
    "        scaler.step(optimizer) \n",
    "        scaler.update() \n",
    "    acc_tmp = cor.item()/len(Y_train)\n",
    "    lr_sch.step()\n",
    "    \n",
    "    ############### Evaluation ###############\n",
    "    net.eval()\n",
    "    loss_train.append(loss_tmp/loss_cnt)\n",
    "    acc_train.append(acc_tmp)\n",
    "    loss_tmp, loss_cnt, acc_tmp = 0,0, 0\n",
    "    cor = 0\n",
    "    for data, label in test_loader:\n",
    "        data, label = data, label\n",
    "        with autocast():\n",
    "            out = net(data)\n",
    "            loss = loss_fn(out, label)\n",
    "        _, pre = torch.max(out, 1)\n",
    "        cor += (pre == label).sum()\n",
    "        \n",
    "        # validation loss\n",
    "        loss_tmp += loss.item()\n",
    "        loss_cnt += 1\n",
    "    acc_tmp = cor.item()/len(Y_test)\n",
    "    loss_val.append(loss_tmp/loss_cnt)\n",
    "    acc_val.append(acc_tmp)\n",
    "    print('epoch: %d, train-loss: %f, val-acc: %f' % (i, loss_train[-1], acc_val[-1]))"
   ]
  },
  {
   "cell_type": "markdown",
   "id": "13a2ab63",
   "metadata": {},
   "source": [
    "Let's plot the training and validation loss and accuracy over time."
   ]
  },
  {
   "cell_type": "code",
   "execution_count": 316,
   "id": "716e7916",
   "metadata": {},
   "outputs": [
    {
     "data": {
      "image/png": "[encoded data removed]",
      "text/plain": [
       "<Figure size 1008x432 with 2 Axes>"
      ]
     },
     "metadata": {},
     "output_type": "display_data"
    }
   ],
   "source": [
    "fig, (ax1, ax2) = plt.subplots(1, 2, figsize=(14,6))\n",
    "ax1.set_title(\"Losses\")\n",
    "ax1.set_xlabel(\"Epochs\")\n",
    "ax1.set_ylabel(\"Loss\")\n",
    "ax1.plot(loss_train, 'b-o', label='Train Loss')\n",
    "ax1.plot(loss_val, 'r-o', label='Valid Loss')\n",
    "ax1.legend(loc=\"upper right\")\n",
    "        \n",
    "ax2.set_title(\"Evaluation\")\n",
    "ax2.set_xlabel(\"Epochs\")\n",
    "ax2.set_ylabel(\"Score\")\n",
    "ax2.set_ylim(0,1)\n",
    "ax2.plot(acc_train, 'y--', label='Accuracy Score (train)')\n",
    "ax2.plot(acc_val, 'g--', label='Accuracy Score (valid)')\n",
    "ax2.legend(loc=\"upper left\")\n",
    "\n",
    "plt.show()"
   ]
  },
  {
   "cell_type": "code",
   "execution_count": 302,
   "id": "5682d225",
   "metadata": {},
   "outputs": [
    {
     "name": "stderr",
     "output_type": "stream",
     "text": [
      "python(20618) MallocStackLogging: can't turn off malloc stack logging because it was not enabled.\n",
      "python(20619) MallocStackLogging: can't turn off malloc stack logging because it was not enabled.\n",
      "python(20620) MallocStackLogging: can't turn off malloc stack logging because it was not enabled.\n",
      "python(20621) MallocStackLogging: can't turn off malloc stack logging because it was not enabled.\n",
      "/Users/zliu/opt/anaconda3/lib/python3.9/site-packages/torch/amp/autocast_mode.py:202: UserWarning: User provided device_type of 'cuda', but CUDA is not available. Disabling\n",
      "  warnings.warn('User provided device_type of \\'cuda\\', but CUDA is not available. Disabling')\n"
     ]
    },
    {
     "name": "stdout",
     "output_type": "stream",
     "text": [
      "F1(macro):  0.9593\n"
     ]
    }
   ],
   "source": [
    "# Gather the F1 (Macro) Evaluation Metrics\n",
    "from sklearn.metrics import f1_score\n",
    "net.eval()\n",
    "cor = 0\n",
    "pred = []\n",
    "gt = []\n",
    "for data, label in test_loader:\n",
    "    data, label = data, label\n",
    "    with autocast():\n",
    "        out = net(data)\n",
    "    _, pre = torch.max(out, 1)\n",
    "    \n",
    "    pred += pre.tolist()\n",
    "    gt += label.tolist()\n",
    "    cor += (pre == label).sum()\n",
    "\n",
    "print(\"F1(macro): \", round(f1_score(gt, pred, average='macro'), 4))"
   ]
  },
  {
   "cell_type": "code",
   "execution_count": 303,
   "id": "f1bb31a7",
   "metadata": {},
   "outputs": [
    {
     "data": {
      "text/plain": [
       "<Figure size 1440x1728 with 0 Axes>"
      ]
     },
     "metadata": {},
     "output_type": "display_data"
    },
    {
     "data": {
      "image/png": "[encoded data removed]",
      "text/plain": [
       "<Figure size 432x288 with 2 Axes>"
      ]
     },
     "metadata": {},
     "output_type": "display_data"
    }
   ],
   "source": [
    "# Get the confusion matrix\n",
    "from sklearn.metrics import confusion_matrix, ConfusionMatrixDisplay\n",
    "import matplotlib.pyplot as plt\n",
    "\n",
    "plt.figure(figsize=(20, 24))\n",
    "cm = confusion_matrix(np.array(gt), np.array(pred))\n",
    "disp = ConfusionMatrixDisplay(confusion_matrix=cm, display_labels=list(activity.values()))\n",
    "disp.plot()\n",
    "plt.title(\"CNN Model confusion matrix\")\n",
    "plt.xticks(rotation=270)\n",
    "plt.savefig('CNN Model CM', dpi = 300)"
   ]
  },
  {
   "cell_type": "code",
   "execution_count": 178,
   "id": "10929ae5",
   "metadata": {},
   "outputs": [],
   "source": [
    "torch.save(net, 'teacher_model.pth.tar')"
   ]
  },
  {
   "cell_type": "markdown",
   "id": "4407880b",
   "metadata": {},
   "source": [
    "## What's Next\n",
    "\n",
    "We reached a pretty high accuracy of 95.9% on the test set. \n",
    "\n",
    "However, when using CNNs for edge AI prediction tasks, for example, deploying models on resource-constrained devices like smartphones, we may have several concerns:\n",
    "\n",
    "- **Computational Resources**: CNNs can be computationally intensive, especially if the model is large or deep. Edge devices often have limited computational resources (CPU, memory, and power), which may not be sufficient to run complex CNN models efficiently.\n",
    "- **Memory Footprint**: CNN models can have a significant memory footprint due to the large number of parameters they contain. This can be problematic for edge devices with limited memory capacity.\n",
    "- **Inference Speed**: Real-time inference on edge devices may require fast prediction times, but complex CNN architectures may not meet the latency requirements of certain applications.\n",
    "- **Model Size**: The size of CNN models can be large, making it challenging to deploy them on edge devices with limited storage capacity or bandwidth constraints.\n",
    "\n",
    "With PyTorch, we can use the profiler to project memory usage of the CNN model and inference time to understand the bottlenecks. We'll fine tune these metrics by leveraging some model compression techniques to be suitable for edge computing as the next step."
   ]
  },
  {
   "cell_type": "code",
   "execution_count": 227,
   "id": "33cd5de3",
   "metadata": {},
   "outputs": [
    {
     "name": "stderr",
     "output_type": "stream",
     "text": [
      "STAGE:2024-06-01 14:51:34 89423:25323328 ActivityProfilerController.cpp:294] Completed Stage: Warm Up\n",
      "python(4799) MallocStackLogging: can't turn off malloc stack logging because it was not enabled.\n",
      "python(4800) MallocStackLogging: can't turn off malloc stack logging because it was not enabled.\n",
      "python(4801) MallocStackLogging: can't turn off malloc stack logging because it was not enabled.\n",
      "python(4802) MallocStackLogging: can't turn off malloc stack logging because it was not enabled.\n"
     ]
    },
    {
     "name": "stdout",
     "output_type": "stream",
     "text": [
      "-------------------------------------------------------  ------------  ------------  ------------  ------------  ------------  ------------  ------------  ------------  \n",
      "                                                   Name    Self CPU %      Self CPU   CPU total %     CPU total  CPU time avg       CPU Mem  Self CPU Mem    # of Calls  \n",
      "-------------------------------------------------------  ------------  ------------  ------------  ------------  ------------  ------------  ------------  ------------  \n",
      "                                        model_inference        15.45%     510.606ms        99.98%        3.304s        3.304s     146.25 Mb     -73.71 Mb             1  \n",
      "                                            aten::empty         0.06%       1.907ms         0.06%       1.907ms      41.457us     144.03 Mb     144.03 Mb            46  \n",
      "                                           aten::conv2d         0.02%     601.000us         6.58%     217.370ms      54.343ms      72.00 Mb           0 b             4  \n",
      "                                      aten::convolution         0.03%     942.000us         6.56%     216.769ms      54.192ms      72.00 Mb           0 b             4  \n",
      "                                     aten::_convolution         0.00%      88.000us         6.53%     215.827ms      53.957ms      72.00 Mb           0 b             4  \n",
      "                               aten::mkldnn_convolution         6.52%     215.590ms         6.53%     215.739ms      53.935ms      72.00 Mb           0 b             4  \n",
      "                                       aten::batch_norm         0.00%      23.000us         0.53%      17.529ms       4.382ms      72.00 Mb           0 b             4  \n",
      "                           aten::_batch_norm_impl_index         0.00%      66.000us         0.53%      17.506ms       4.377ms      72.00 Mb           0 b             4  \n",
      "                                aten::native_batch_norm         0.50%      16.605ms         0.53%      17.417ms       4.354ms      72.00 Mb      -7.50 Kb             4  \n",
      "                                       aten::empty_like         0.00%      14.000us         0.00%      38.000us       9.500us      72.00 Mb           0 b             4  \n",
      "-------------------------------------------------------  ------------  ------------  ------------  ------------  ------------  ------------  ------------  ------------  \n",
      "Self CPU time total: 3.305s\n",
      "\n"
     ]
    },
    {
     "name": "stderr",
     "output_type": "stream",
     "text": [
      "STAGE:2024-06-01 14:51:38 89423:25323328 ActivityProfilerController.cpp:300] Completed Stage: Collection\n"
     ]
    }
   ],
   "source": [
    "# As seen in the results the model inference time can be as long as 510 ms!\n",
    "from torch.profiler import profile, record_function, ProfilerActivity\n",
    "with profile(activities=[ProfilerActivity.CPU], profile_memory=True, record_shapes=True) as prof:\n",
    "    with record_function(\"model_inference\"):\n",
    "        for data, label in test_loader:\n",
    "            data, label = data, label\n",
    "            with autocast():\n",
    "                out = net(data)\n",
    "            _, pre = torch.max(out, 1)\n",
    "            break\n",
    "print(prof.key_averages().table(sort_by=\"cpu_memory_usage\", row_limit=10))"
   ]
  },
  {
   "cell_type": "code",
   "execution_count": 258,
   "id": "430d6f23",
   "metadata": {},
   "outputs": [
    {
     "name": "stderr",
     "output_type": "stream",
     "text": [
      "STAGE:2024-06-01 20:56:42 89423:25323328 ActivityProfilerController.cpp:294] Completed Stage: Warm Up\n",
      "python(22414) MallocStackLogging: can't turn off malloc stack logging because it was not enabled.\n",
      "python(22416) MallocStackLogging: can't turn off malloc stack logging because it was not enabled.\n",
      "python(22417) MallocStackLogging: can't turn off malloc stack logging because it was not enabled.\n",
      "python(22418) MallocStackLogging: can't turn off malloc stack logging because it was not enabled.\n"
     ]
    },
    {
     "name": "stdout",
     "output_type": "stream",
     "text": [
      "-------------------------------------------------------  ------------  ------------  ------------  ------------  ------------  ------------  --------------------------------------------------------------------------------  \n",
      "                                                   Name    Self CPU %      Self CPU   CPU total %     CPU total  CPU time avg    # of Calls                                                                      Input Shapes  \n",
      "-------------------------------------------------------  ------------  ------------  ------------  ------------  ------------  ------------  --------------------------------------------------------------------------------  \n",
      "                                        model_inference        14.90%     705.694ms        99.99%        4.735s        4.735s             1                                                                                []  \n",
      "enumerate(DataLoader)#_MultiProcessingDataLoaderIter...        76.83%        3.639s        76.84%        3.639s        3.639s             1                                                                                []  \n",
      "                                           aten::conv2d         0.00%       7.000us         1.85%      87.722ms      87.722ms             1                      [[128, 256, 16, 9], [512, 256, 3, 1], [512], [], [], [], []]  \n",
      "                                      aten::convolution         0.00%      46.000us         1.85%      87.715ms      87.715ms             1              [[128, 256, 16, 9], [512, 256, 3, 1], [512], [], [], [], [], [], []]  \n",
      "                                     aten::_convolution         0.00%      19.000us         1.85%      87.669ms      87.669ms             1  [[128, 256, 16, 9], [512, 256, 3, 1], [512], [], [], [], [], [], [], [], [], [],  \n",
      "                               aten::mkldnn_convolution         1.85%      87.629ms         1.85%      87.650ms      87.650ms             1                      [[128, 256, 16, 9], [512, 256, 3, 1], [512], [], [], [], []]  \n",
      "                                             aten::relu         0.00%      46.000us         1.30%      61.668ms      61.668ms             1                                                                [[128, 64, 64, 9]]  \n",
      "                                        aten::clamp_min         1.30%      61.622ms         1.30%      61.622ms      61.622ms             1                                                            [[128, 64, 64, 9], []]  \n",
      "                                           aten::conv2d         0.00%      10.000us         1.12%      53.092ms      53.092ms             1                      [[128, 128, 32, 9], [256, 128, 3, 1], [256], [], [], [], []]  \n",
      "                                      aten::convolution         0.01%     450.000us         1.12%      53.082ms      53.082ms             1              [[128, 128, 32, 9], [256, 128, 3, 1], [256], [], [], [], [], [], []]  \n",
      "-------------------------------------------------------  ------------  ------------  ------------  ------------  ------------  ------------  --------------------------------------------------------------------------------  \n",
      "Self CPU time total: 4.736s\n",
      "\n"
     ]
    },
    {
     "name": "stderr",
     "output_type": "stream",
     "text": [
      "STAGE:2024-06-01 20:56:47 89423:25323328 ActivityProfilerController.cpp:300] Completed Stage: Collection\n"
     ]
    }
   ],
   "source": [
    "with profile(activities=[ProfilerActivity.CPU], record_shapes=True) as prof:\n",
    "    with record_function(\"model_inference\"):\n",
    "        for data, label in test_loader:\n",
    "            data, label = data, label\n",
    "            with autocast():\n",
    "                out = net(data)\n",
    "                _, pre = torch.max(out, 1)\n",
    "            break\n",
    "print(prof.key_averages(group_by_input_shape=True).table(sort_by=\"cpu_time_total\", row_limit=10))"
   ]
  },
  {
   "cell_type": "markdown",
   "id": "9aa77f41",
   "metadata": {},
   "source": [
    "## Knowledge Distillation\n",
    "\n",
    "For model compression, we transfer the knowledge from the teacher model,\n",
    "a complex CNN architecture, to a smaller, shallower student model. The shallow neural network use\n",
    "fewer layers and parameters than the teach model, making it computationally efficient and faster to\n",
    "train and run, which is beneficial for deployment on resource-constrained devices. In our study, we\n",
    "designed a simple feedforward neural network and trained the shallower network with Knowledge\n",
    "Distillation (KD) loss, which is a combination of the Kullback-Leibler(KL)-Divergence loss and the\n",
    "regular Cross Entropy loss."
   ]
  },
  {
   "cell_type": "code",
   "execution_count": 183,
   "id": "81fefb4f",
   "metadata": {},
   "outputs": [],
   "source": [
    "import torch\n",
    "import torch.nn as nn\n",
    "import torch.nn.functional as F\n",
    "\n",
    "class TinyNN(nn.Module):\n",
    "    \"\"\"\n",
    "    Implementation of a Shallow model\n",
    "\n",
    "    :param img_size (int): Dimension of input image\n",
    "    :param hidden_size (int): Hidden layer dimension\n",
    "    :param num_classes (int): Number of classes for classification\n",
    "    \"\"\"\n",
    "\n",
    "    def __init__(self, size=128, hidden_size=128, num_classes=6, num_channels=9):\n",
    "        super(TinyNN, self).__init__()\n",
    "\n",
    "        self.hidden_size = hidden_size\n",
    "        self.num_classes = num_classes\n",
    "        self.size = size\n",
    "        self.num_channels = num_channels\n",
    "\n",
    "        self.fc1 = nn.Linear(self.size * self.num_channels, self.hidden_size)\n",
    "        self.fc2 = nn.Linear(self.hidden_size, self.hidden_size)\n",
    "        self.fc3 = nn.Linear(self.hidden_size, self.num_classes)\n",
    "        \n",
    "\n",
    "    def forward(self, x):\n",
    "        x = torch.flatten(x, 1)\n",
    "        x = self.fc1(x)\n",
    "        x = F.relu(x)\n",
    "        x = self.fc2(x)\n",
    "        x = F.relu(x)\n",
    "        out = self.fc3(x)\n",
    "\n",
    "        return out"
   ]
  },
  {
   "cell_type": "code",
   "execution_count": 217,
   "id": "d9948e7b",
   "metadata": {},
   "outputs": [],
   "source": [
    "from torch.autograd import Variable\n",
    "\n",
    "\n",
    "class RunningAverage():\n",
    "    \"\"\"A simple class that maintains the running average of a quantity\n",
    "    \n",
    "    Example:\n",
    "    ```\n",
    "    loss_avg = RunningAverage()\n",
    "    loss_avg.update(2)\n",
    "    loss_avg.update(4)\n",
    "    loss_avg() = 3\n",
    "    ```\n",
    "    \"\"\"\n",
    "    def __init__(self):\n",
    "        self.steps = 0\n",
    "        self.total = 0\n",
    "    \n",
    "    def update(self, val):\n",
    "        self.total += val\n",
    "        self.steps += 1\n",
    "    \n",
    "    def __call__(self):\n",
    "        return self.total/float(self.steps)\n",
    "    \n",
    "    \n",
    "def loss_fn_kd(outputs, labels, teacher_outputs):\n",
    "    \"\"\"\n",
    "    Compute the knowledge-distillation (KD) loss given outputs, labels.\n",
    "    \"Hyperparameters\": temperature and alpha\n",
    "\n",
    "    NOTE: the KL Divergence for PyTorch comparing the softmaxs of teacher\n",
    "    and student expects the input tensor to be log probabilities! \n",
    "    \"\"\"\n",
    "    alpha = 0.9\n",
    "    T = 20\n",
    "    KD_loss = nn.KLDivLoss()(F.log_softmax(outputs/T, dim=1),\n",
    "                             F.softmax(teacher_outputs/T, dim=1)) * (alpha * T * T) + \\\n",
    "              F.cross_entropy(outputs, labels) * (1. - alpha)\n",
    "\n",
    "    return KD_loss\n",
    "\n",
    "\n",
    "def accuracy(outputs, labels):\n",
    "    \"\"\"\n",
    "    Compute the accuracy, given the outputs and labels for all images.\n",
    "\n",
    "    Args:\n",
    "        outputs: (np.ndarray) output of the model\n",
    "        labels: (np.ndarray) [0, 1, ..., num_classes-1]\n",
    "\n",
    "    Returns: (float) accuracy in [0,1]\n",
    "    \"\"\"\n",
    "    outputs = np.argmax(outputs, axis=1)\n",
    "    return np.sum(outputs==labels)/float(labels.size)\n",
    "\n",
    "def count_parameters_in_MB(model):\n",
    "    return sum(np.prod(v.size()) for name, v in model.named_parameters())/1e6\n",
    "\n",
    "def count_parameters_in_KB(model):\n",
    "    return sum(np.prod(v.size()) for name, v in model.named_parameters())/1e3\n",
    "\n",
    "# maintain all metrics required in this dictionary- these are used in the training and evaluation loops\n",
    "metrics = {\n",
    "    'accuracy': accuracy,\n",
    "    # could add more metrics such as accuracy for each token type\n",
    "}\n",
    "\n",
    "\n",
    "def train_kd(model, teacher_model, optimizer, loss_fn_kd, dataloader, metrics):\n",
    "    \"\"\"Train the model on `num_steps` batches\n",
    "\n",
    "    Args:\n",
    "        model: (torch.nn.Module) the neural network\n",
    "        optimizer: (torch.optim) optimizer for parameters of model\n",
    "        loss_fn_kd: \n",
    "        dataloader: \n",
    "        metrics: (dict) \n",
    "    \"\"\"\n",
    "\n",
    "    # set model to training mode\n",
    "    model.train()\n",
    "    teacher_model.eval()\n",
    "\n",
    "    # summary for current training loop and a running average object for loss\n",
    "    summ = []\n",
    "    loss_avg = RunningAverage()\n",
    "\n",
    "    # Use tqdm for progress bar\n",
    "    with tqdm(total=len(dataloader)) as t:\n",
    "        for i, (train_batch, labels_batch) in enumerate(dataloader):\n",
    "            \n",
    "            # convert to torch Variables\n",
    "            train_batch, labels_batch = Variable(train_batch), Variable(labels_batch)\n",
    "\n",
    "            # compute model output, fetch teacher output, and compute KD loss\n",
    "            output_batch = model(train_batch)\n",
    "\n",
    "            # get one batch output from teacher_outputs list\n",
    "\n",
    "            with torch.no_grad():\n",
    "                output_teacher_batch = teacher_model(train_batch)\n",
    "\n",
    "            loss = loss_fn_kd(output_batch, labels_batch, output_teacher_batch)\n",
    "\n",
    "            # clear previous gradients, compute gradients of all variables wrt loss\n",
    "            optimizer.zero_grad()\n",
    "            loss.backward()\n",
    "\n",
    "            # performs updates using calculated gradients\n",
    "            optimizer.step()\n",
    "\n",
    "            # Evaluate summaries only once in a while\n",
    "            if i % 100 == 0:\n",
    "                # extract data from torch Variable, move to cpu, convert to numpy arrays\n",
    "                output_batch = output_batch.data.numpy()\n",
    "                labels_batch = labels_batch.data.numpy()\n",
    "\n",
    "                # compute all metrics on this batch\n",
    "                summary_batch = {metric:metrics[metric](output_batch, labels_batch)\n",
    "                                 for metric in metrics}\n",
    "                #print(loss.item())\n",
    "                summary_batch['loss'] = loss.item()\n",
    "                summ.append(summary_batch)\n",
    "\n",
    "            # update the average loss\n",
    "            loss_avg.update(loss.item())\n",
    "\n",
    "            t.set_postfix(loss='{:05.3f}'.format(loss_avg()))\n",
    "            t.update()\n",
    "\n",
    "    # compute mean of all metrics in summary\n",
    "    metrics_mean = {metric:np.mean([x[metric] for x in summ]) for metric in summ[0]}\n",
    "    metrics_string = \" ; \".join(\"{}: {:05.3f}\".format(k, v) for k, v in metrics_mean.items())\n",
    "    print(\"- Train metrics: \" + metrics_string)\n",
    "    \n",
    "    \n",
    "def evaluate_kd(model, dataloader, metrics):\n",
    "    \"\"\"Evaluate the model on `num_steps` batches.\n",
    "\n",
    "    Args:\n",
    "        model: (torch.nn.Module) the neural network\n",
    "        loss_fn: a function that takes batch_output and batch_labels and computes the loss for the batch\n",
    "        dataloader: (DataLoader) a torch.utils.data.DataLoader object that fetches data\n",
    "        metrics: (dict) a dictionary of functions that compute a metric using the output and labels of each batch\n",
    "        params: (Params) hyperparameters\n",
    "        num_steps: (int) number of batches to train on, each of size params.batch_size\n",
    "    \"\"\"\n",
    "\n",
    "    # set model to evaluation mode\n",
    "    model.eval()\n",
    "\n",
    "    # summary for current eval loop\n",
    "    summ = []\n",
    "\n",
    "    # compute metrics over the dataset\n",
    "    for i, (data_batch, labels_batch) in enumerate(dataloader):\n",
    "\n",
    "        # fetch the next evaluation batch\n",
    "        data_batch, labels_batch = Variable(data_batch), Variable(labels_batch)\n",
    "        \n",
    "        # compute model output\n",
    "        output_batch = model(data_batch)\n",
    "\n",
    "        # loss = loss_fn_kd(output_batch, labels_batch, output_teacher_batch, params)\n",
    "        loss = 0.0  #force validation loss to zero to reduce computation time\n",
    "\n",
    "        # extract data from torch Variable, move to cpu, convert to numpy arrays\n",
    "        output_batch = output_batch.data.numpy()\n",
    "        labels_batch = labels_batch.data.numpy()\n",
    "\n",
    "        # compute all metrics on this batch\n",
    "        summary_batch = {metric: metrics[metric](output_batch, labels_batch)\n",
    "                         for metric in metrics}\n",
    "        # summary_batch['loss'] = loss.data[0]\n",
    "        summary_batch['loss'] = loss\n",
    "        summ.append(summary_batch)\n",
    "\n",
    "    # compute mean of all metrics in summary\n",
    "    metrics_mean = {metric:np.mean([x[metric] for x in summ]) for metric in summ[0]} \n",
    "    metrics_string = \" ; \".join(\"{}: {:05.3f}\".format(k, v) for k, v in metrics_mean.items())\n",
    "    print(\"- Eval metrics : \" + metrics_string)\n",
    "    return metrics_mean"
   ]
  },
  {
   "cell_type": "code",
   "execution_count": 181,
   "id": "0403a0ef",
   "metadata": {},
   "outputs": [],
   "source": [
    "from torch.optim.lr_scheduler import StepLR\n",
    "import json\n",
    "\n",
    "\n",
    "NUM_EPOCHS_KD = 20\n",
    "\n",
    "def save_dict_to_json(d, json_path):\n",
    "    \"\"\"Saves dict of floats in json file\n",
    "\n",
    "    Args:\n",
    "        d: (dict) of float-castable values (np.float, int, float, etc.)\n",
    "        json_path: (string) path to json file\n",
    "    \"\"\"\n",
    "    with open(json_path, 'w') as f:\n",
    "        # We need to convert the values to float for json (it doesn't accept np.array, np.float, )\n",
    "        d = {k: float(v) for k, v in d.items()}\n",
    "        json.dump(d, f, indent=4)\n",
    "\n",
    "\n",
    "def train_and_evaluate_kd(model, teacher_model, train_dataloader, val_dataloader, optimizer,\n",
    "                       loss_fn_kd, metrics):\n",
    "    \"\"\"Train the model and evaluate every epoch.\n",
    "\n",
    "    Args:\n",
    "        model: (torch.nn.Module) the neural network\n",
    "        params: (Params) hyperparameters\n",
    "        model_dir: (string) directory containing config, weights and log\n",
    "        restore_file: (string) - file to restore (without its extension .pth.tar)\n",
    "    \"\"\"\n",
    "\n",
    "    best_val_acc = 0.0\n",
    "\n",
    "    # learning rate schedulers for different models:\n",
    "    scheduler = StepLR(optimizer, step_size=100, gamma=0.2) \n",
    "\n",
    "    for epoch in range(NUM_EPOCHS_KD):\n",
    "\n",
    "        scheduler.step()\n",
    "\n",
    "        # Run one epoch\n",
    "        print(\"Epoch {}/{}\".format(epoch + 1, NUM_EPOCHS_KD))\n",
    "\n",
    "        # compute number of batches in one epoch (one full pass over the training set)\n",
    "        train_kd(model, teacher_model, optimizer, loss_fn_kd, train_dataloader,\n",
    "                 metrics)\n",
    "\n",
    "        # Evaluate for one epoch on validation set\n",
    "        val_metrics = evaluate_kd(model, val_dataloader, metrics)\n",
    "\n",
    "        val_acc = val_metrics['accuracy']\n",
    "        is_best = val_acc>=best_val_acc\n",
    "        print(is_best)\n",
    "\n",
    "        # Save weights\n",
    "        torch.save({'epoch': epoch + 1,\n",
    "                    'state_dict': model.state_dict(),\n",
    "                    'optim_dict': optimizer.state_dict()},\n",
    "                     'student_model.pth.tar')\n",
    "\n",
    "        # If best_eval, best_save_path\n",
    "        if is_best:\n",
    "            print(\"- Found new best accuracy\")\n",
    "            best_val_acc = val_acc\n",
    "\n",
    "            # Save best val metrics in a json file in the model directory\n",
    "            best_json_path = \"metrics_val_best_weights.json\"\n",
    "            save_dict_to_json(val_metrics, best_json_path)\n",
    "\n",
    "        # Save latest val metrics in a json file in the model directory\n",
    "        last_json_path =  \"metrics_val_last_weights.json\"\n",
    "        save_dict_to_json(val_metrics, last_json_path)\n",
    "        \n",
    "    print('Teacher param size = %fMB', count_parameters_in_MB(teacher_model))\n",
    "    print('Student param size = %fMB', count_parameters_in_MB(model))"
   ]
  },
  {
   "cell_type": "code",
   "execution_count": 184,
   "id": "f3a71530",
   "metadata": {},
   "outputs": [
    {
     "name": "stdout",
     "output_type": "stream",
     "text": [
      "Epoch 1/20\n"
     ]
    },
    {
     "name": "stderr",
     "output_type": "stream",
     "text": [
      "  0%|                                                                            | 0/58 [00:00<?, ?it/s]python(39783) MallocStackLogging: can't turn off malloc stack logging because it was not enabled.\n",
      "python(39786) MallocStackLogging: can't turn off malloc stack logging because it was not enabled.\n",
      "python(39789) MallocStackLogging: can't turn off malloc stack logging because it was not enabled.\n",
      "python(39790) MallocStackLogging: can't turn off malloc stack logging because it was not enabled.\n",
      "100%|███████████████████████████████████████████████████████| 58/58 [00:14<00:00,  3.88it/s, loss=2.166]"
     ]
    },
    {
     "name": "stdout",
     "output_type": "stream",
     "text": [
      "- Train metrics: accuracy: 0.195 ; loss: 2.840\n"
     ]
    },
    {
     "name": "stderr",
     "output_type": "stream",
     "text": [
      "\n",
      "python(39996) MallocStackLogging: can't turn off malloc stack logging because it was not enabled.\n",
      "python(39997) MallocStackLogging: can't turn off malloc stack logging because it was not enabled.\n",
      "python(40001) MallocStackLogging: can't turn off malloc stack logging because it was not enabled.\n",
      "python(40003) MallocStackLogging: can't turn off malloc stack logging because it was not enabled.\n"
     ]
    },
    {
     "name": "stdout",
     "output_type": "stream",
     "text": [
      "- Eval metrics : accuracy: 0.575 ; loss: 0.000\n",
      "True\n",
      "- Found new best accuracy\n",
      "Epoch 2/20\n"
     ]
    },
    {
     "name": "stderr",
     "output_type": "stream",
     "text": [
      "  0%|                                                                            | 0/58 [00:00<?, ?it/s]python(40134) MallocStackLogging: can't turn off malloc stack logging because it was not enabled.\n",
      "python(40135) MallocStackLogging: can't turn off malloc stack logging because it was not enabled.\n",
      "python(40136) MallocStackLogging: can't turn off malloc stack logging because it was not enabled.\n",
      "python(40138) MallocStackLogging: can't turn off malloc stack logging because it was not enabled.\n",
      "100%|███████████████████████████████████████████████████████| 58/58 [00:16<00:00,  3.49it/s, loss=1.192]"
     ]
    },
    {
     "name": "stdout",
     "output_type": "stream",
     "text": [
      "- Train metrics: accuracy: 0.562 ; loss: 1.687\n"
     ]
    },
    {
     "name": "stderr",
     "output_type": "stream",
     "text": [
      "\n",
      "python(40546) MallocStackLogging: can't turn off malloc stack logging because it was not enabled.\n",
      "python(40547) MallocStackLogging: can't turn off malloc stack logging because it was not enabled.\n",
      "python(40548) MallocStackLogging: can't turn off malloc stack logging because it was not enabled.\n",
      "python(40549) MallocStackLogging: can't turn off malloc stack logging because it was not enabled.\n"
     ]
    },
    {
     "name": "stdout",
     "output_type": "stream",
     "text": [
      "- Eval metrics : accuracy: 0.697 ; loss: 0.000\n",
      "True\n",
      "- Found new best accuracy\n",
      "Epoch 3/20\n"
     ]
    },
    {
     "name": "stderr",
     "output_type": "stream",
     "text": [
      "  0%|                                                                            | 0/58 [00:00<?, ?it/s]python(40661) MallocStackLogging: can't turn off malloc stack logging because it was not enabled.\n",
      "python(40662) MallocStackLogging: can't turn off malloc stack logging because it was not enabled.\n",
      "python(40663) MallocStackLogging: can't turn off malloc stack logging because it was not enabled.\n",
      "python(40664) MallocStackLogging: can't turn off malloc stack logging because it was not enabled.\n",
      "100%|███████████████████████████████████████████████████████| 58/58 [00:25<00:00,  2.29it/s, loss=0.717]"
     ]
    },
    {
     "name": "stdout",
     "output_type": "stream",
     "text": [
      "- Train metrics: accuracy: 0.742 ; loss: 0.953\n"
     ]
    },
    {
     "name": "stderr",
     "output_type": "stream",
     "text": [
      "\n",
      "python(40948) MallocStackLogging: can't turn off malloc stack logging because it was not enabled.\n",
      "python(40951) MallocStackLogging: can't turn off malloc stack logging because it was not enabled.\n",
      "python(40952) MallocStackLogging: can't turn off malloc stack logging because it was not enabled.\n",
      "python(40955) MallocStackLogging: can't turn off malloc stack logging because it was not enabled.\n"
     ]
    },
    {
     "name": "stdout",
     "output_type": "stream",
     "text": [
      "- Eval metrics : accuracy: 0.781 ; loss: 0.000\n",
      "True\n",
      "- Found new best accuracy\n",
      "Epoch 4/20\n"
     ]
    },
    {
     "name": "stderr",
     "output_type": "stream",
     "text": [
      "  0%|                                                                            | 0/58 [00:00<?, ?it/s]python(41018) MallocStackLogging: can't turn off malloc stack logging because it was not enabled.\n",
      "python(41019) MallocStackLogging: can't turn off malloc stack logging because it was not enabled.\n",
      "python(41020) MallocStackLogging: can't turn off malloc stack logging because it was not enabled.\n",
      "python(41021) MallocStackLogging: can't turn off malloc stack logging because it was not enabled.\n",
      "100%|███████████████████████████████████████████████████████| 58/58 [00:23<00:00,  2.45it/s, loss=0.490]"
     ]
    },
    {
     "name": "stdout",
     "output_type": "stream",
     "text": [
      "- Train metrics: accuracy: 0.906 ; loss: 0.513\n"
     ]
    },
    {
     "name": "stderr",
     "output_type": "stream",
     "text": [
      "\n",
      "python(41314) MallocStackLogging: can't turn off malloc stack logging because it was not enabled.\n",
      "python(41315) MallocStackLogging: can't turn off malloc stack logging because it was not enabled.\n",
      "python(41316) MallocStackLogging: can't turn off malloc stack logging because it was not enabled.\n",
      "python(41317) MallocStackLogging: can't turn off malloc stack logging because it was not enabled.\n"
     ]
    },
    {
     "name": "stdout",
     "output_type": "stream",
     "text": [
      "- Eval metrics : accuracy: 0.816 ; loss: 0.000\n",
      "True\n",
      "- Found new best accuracy\n",
      "Epoch 5/20\n"
     ]
    },
    {
     "name": "stderr",
     "output_type": "stream",
     "text": [
      "  0%|                                                                            | 0/58 [00:00<?, ?it/s]python(41371) MallocStackLogging: can't turn off malloc stack logging because it was not enabled.\n",
      "python(41372) MallocStackLogging: can't turn off malloc stack logging because it was not enabled.\n",
      "python(41373) MallocStackLogging: can't turn off malloc stack logging because it was not enabled.\n",
      "python(41374) MallocStackLogging: can't turn off malloc stack logging because it was not enabled.\n",
      "100%|███████████████████████████████████████████████████████| 58/58 [00:19<00:00,  2.94it/s, loss=0.367]"
     ]
    },
    {
     "name": "stdout",
     "output_type": "stream",
     "text": [
      "- Train metrics: accuracy: 0.906 ; loss: 0.404\n"
     ]
    },
    {
     "name": "stderr",
     "output_type": "stream",
     "text": [
      "\n",
      "python(41793) MallocStackLogging: can't turn off malloc stack logging because it was not enabled.\n",
      "python(41794) MallocStackLogging: can't turn off malloc stack logging because it was not enabled.\n",
      "python(41795) MallocStackLogging: can't turn off malloc stack logging because it was not enabled.\n",
      "python(41796) MallocStackLogging: can't turn off malloc stack logging because it was not enabled.\n"
     ]
    },
    {
     "name": "stdout",
     "output_type": "stream",
     "text": [
      "- Eval metrics : accuracy: 0.835 ; loss: 0.000\n",
      "True\n",
      "- Found new best accuracy\n",
      "Epoch 6/20\n"
     ]
    },
    {
     "name": "stderr",
     "output_type": "stream",
     "text": [
      "  0%|                                                                            | 0/58 [00:00<?, ?it/s]python(41870) MallocStackLogging: can't turn off malloc stack logging because it was not enabled.\n",
      "python(41871) MallocStackLogging: can't turn off malloc stack logging because it was not enabled.\n",
      "python(41872) MallocStackLogging: can't turn off malloc stack logging because it was not enabled.\n",
      "python(41873) MallocStackLogging: can't turn off malloc stack logging because it was not enabled.\n",
      "100%|███████████████████████████████████████████████████████| 58/58 [00:20<00:00,  2.86it/s, loss=0.295]"
     ]
    },
    {
     "name": "stdout",
     "output_type": "stream",
     "text": [
      "- Train metrics: accuracy: 0.945 ; loss: 0.311\n"
     ]
    },
    {
     "name": "stderr",
     "output_type": "stream",
     "text": [
      "\n",
      "python(42253) MallocStackLogging: can't turn off malloc stack logging because it was not enabled.\n",
      "python(42257) MallocStackLogging: can't turn off malloc stack logging because it was not enabled.\n",
      "python(42262) MallocStackLogging: can't turn off malloc stack logging because it was not enabled.\n",
      "python(42269) MallocStackLogging: can't turn off malloc stack logging because it was not enabled.\n"
     ]
    },
    {
     "name": "stdout",
     "output_type": "stream",
     "text": [
      "- Eval metrics : accuracy: 0.839 ; loss: 0.000\n",
      "True\n",
      "- Found new best accuracy\n",
      "Epoch 7/20\n"
     ]
    },
    {
     "name": "stderr",
     "output_type": "stream",
     "text": [
      "  0%|                                                                            | 0/58 [00:00<?, ?it/s]python(42404) MallocStackLogging: can't turn off malloc stack logging because it was not enabled.\n",
      "python(42405) MallocStackLogging: can't turn off malloc stack logging because it was not enabled.\n",
      "python(42406) MallocStackLogging: can't turn off malloc stack logging because it was not enabled.\n",
      "python(42407) MallocStackLogging: can't turn off malloc stack logging because it was not enabled.\n",
      "100%|███████████████████████████████████████████████████████| 58/58 [00:19<00:00,  2.96it/s, loss=0.253]"
     ]
    },
    {
     "name": "stdout",
     "output_type": "stream",
     "text": [
      "- Train metrics: accuracy: 0.953 ; loss: 0.257\n"
     ]
    },
    {
     "name": "stderr",
     "output_type": "stream",
     "text": [
      "\n",
      "python(42851) MallocStackLogging: can't turn off malloc stack logging because it was not enabled.\n",
      "python(42852) MallocStackLogging: can't turn off malloc stack logging because it was not enabled.\n",
      "python(42853) MallocStackLogging: can't turn off malloc stack logging because it was not enabled.\n",
      "python(42854) MallocStackLogging: can't turn off malloc stack logging because it was not enabled.\n"
     ]
    },
    {
     "name": "stdout",
     "output_type": "stream",
     "text": [
      "- Eval metrics : accuracy: 0.855 ; loss: 0.000\n",
      "True\n",
      "- Found new best accuracy\n",
      "Epoch 8/20\n"
     ]
    },
    {
     "name": "stderr",
     "output_type": "stream",
     "text": [
      "  0%|                                                                            | 0/58 [00:00<?, ?it/s]python(42937) MallocStackLogging: can't turn off malloc stack logging because it was not enabled.\n",
      "python(42944) MallocStackLogging: can't turn off malloc stack logging because it was not enabled.\n",
      "python(42947) MallocStackLogging: can't turn off malloc stack logging because it was not enabled.\n",
      "python(42950) MallocStackLogging: can't turn off malloc stack logging because it was not enabled.\n",
      "100%|███████████████████████████████████████████████████████| 58/58 [00:17<00:00,  3.39it/s, loss=0.229]"
     ]
    },
    {
     "name": "stdout",
     "output_type": "stream",
     "text": [
      "- Train metrics: accuracy: 0.930 ; loss: 0.252\n"
     ]
    },
    {
     "name": "stderr",
     "output_type": "stream",
     "text": [
      "\n",
      "python(43226) MallocStackLogging: can't turn off malloc stack logging because it was not enabled.\n",
      "python(43227) MallocStackLogging: can't turn off malloc stack logging because it was not enabled.\n",
      "python(43228) MallocStackLogging: can't turn off malloc stack logging because it was not enabled.\n",
      "python(43229) MallocStackLogging: can't turn off malloc stack logging because it was not enabled.\n"
     ]
    },
    {
     "name": "stdout",
     "output_type": "stream",
     "text": [
      "- Eval metrics : accuracy: 0.874 ; loss: 0.000\n",
      "True\n",
      "- Found new best accuracy\n",
      "Epoch 9/20\n"
     ]
    },
    {
     "name": "stderr",
     "output_type": "stream",
     "text": [
      "  0%|                                                                            | 0/58 [00:00<?, ?it/s]python(43335) MallocStackLogging: can't turn off malloc stack logging because it was not enabled.\n",
      "python(43338) MallocStackLogging: can't turn off malloc stack logging because it was not enabled.\n",
      "python(43341) MallocStackLogging: can't turn off malloc stack logging because it was not enabled.\n",
      "python(43344) MallocStackLogging: can't turn off malloc stack logging because it was not enabled.\n",
      "100%|███████████████████████████████████████████████████████| 58/58 [00:17<00:00,  3.38it/s, loss=0.208]"
     ]
    },
    {
     "name": "stdout",
     "output_type": "stream",
     "text": [
      "- Train metrics: accuracy: 0.938 ; loss: 0.202\n"
     ]
    },
    {
     "name": "stderr",
     "output_type": "stream",
     "text": [
      "\n",
      "python(43584) MallocStackLogging: can't turn off malloc stack logging because it was not enabled.\n",
      "python(43586) MallocStackLogging: can't turn off malloc stack logging because it was not enabled.\n",
      "python(43589) MallocStackLogging: can't turn off malloc stack logging because it was not enabled.\n",
      "python(43590) MallocStackLogging: can't turn off malloc stack logging because it was not enabled.\n"
     ]
    },
    {
     "name": "stdout",
     "output_type": "stream",
     "text": [
      "- Eval metrics : accuracy: 0.871 ; loss: 0.000\n",
      "False\n",
      "Epoch 10/20\n"
     ]
    },
    {
     "name": "stderr",
     "output_type": "stream",
     "text": [
      "  0%|                                                                            | 0/58 [00:00<?, ?it/s]python(43639) MallocStackLogging: can't turn off malloc stack logging because it was not enabled.\n",
      "python(43640) MallocStackLogging: can't turn off malloc stack logging because it was not enabled.\n",
      "python(43641) MallocStackLogging: can't turn off malloc stack logging because it was not enabled.\n",
      "python(43642) MallocStackLogging: can't turn off malloc stack logging because it was not enabled.\n",
      "100%|███████████████████████████████████████████████████████| 58/58 [00:17<00:00,  3.23it/s, loss=0.193]"
     ]
    },
    {
     "name": "stdout",
     "output_type": "stream",
     "text": [
      "- Train metrics: accuracy: 0.938 ; loss: 0.230\n"
     ]
    },
    {
     "name": "stderr",
     "output_type": "stream",
     "text": [
      "\n",
      "python(43869) MallocStackLogging: can't turn off malloc stack logging because it was not enabled.\n",
      "python(43872) MallocStackLogging: can't turn off malloc stack logging because it was not enabled.\n",
      "python(43874) MallocStackLogging: can't turn off malloc stack logging because it was not enabled.\n",
      "python(43877) MallocStackLogging: can't turn off malloc stack logging because it was not enabled.\n"
     ]
    },
    {
     "name": "stdout",
     "output_type": "stream",
     "text": [
      "- Eval metrics : accuracy: 0.878 ; loss: 0.000\n",
      "True\n",
      "- Found new best accuracy\n",
      "Epoch 11/20\n"
     ]
    },
    {
     "name": "stderr",
     "output_type": "stream",
     "text": [
      "  0%|                                                                            | 0/58 [00:00<?, ?it/s]python(43934) MallocStackLogging: can't turn off malloc stack logging because it was not enabled.\n",
      "python(43935) MallocStackLogging: can't turn off malloc stack logging because it was not enabled.\n",
      "python(43937) MallocStackLogging: can't turn off malloc stack logging because it was not enabled.\n",
      "python(43938) MallocStackLogging: can't turn off malloc stack logging because it was not enabled.\n",
      "100%|███████████████████████████████████████████████████████| 58/58 [00:17<00:00,  3.24it/s, loss=0.182]"
     ]
    },
    {
     "name": "stdout",
     "output_type": "stream",
     "text": [
      "- Train metrics: accuracy: 0.977 ; loss: 0.189\n"
     ]
    },
    {
     "name": "stderr",
     "output_type": "stream",
     "text": [
      "\n",
      "python(44295) MallocStackLogging: can't turn off malloc stack logging because it was not enabled.\n",
      "python(44297) MallocStackLogging: can't turn off malloc stack logging because it was not enabled.\n",
      "python(44299) MallocStackLogging: can't turn off malloc stack logging because it was not enabled.\n",
      "python(44300) MallocStackLogging: can't turn off malloc stack logging because it was not enabled.\n"
     ]
    },
    {
     "name": "stdout",
     "output_type": "stream",
     "text": [
      "- Eval metrics : accuracy: 0.864 ; loss: 0.000\n",
      "False\n",
      "Epoch 12/20\n"
     ]
    },
    {
     "name": "stderr",
     "output_type": "stream",
     "text": [
      "  0%|                                                                            | 0/58 [00:00<?, ?it/s]python(44359) MallocStackLogging: can't turn off malloc stack logging because it was not enabled.\n",
      "python(44360) MallocStackLogging: can't turn off malloc stack logging because it was not enabled.\n",
      "python(44363) MallocStackLogging: can't turn off malloc stack logging because it was not enabled.\n",
      "python(44364) MallocStackLogging: can't turn off malloc stack logging because it was not enabled.\n",
      "100%|███████████████████████████████████████████████████████| 58/58 [00:18<00:00,  3.19it/s, loss=0.170]"
     ]
    },
    {
     "name": "stdout",
     "output_type": "stream",
     "text": [
      "- Train metrics: accuracy: 0.953 ; loss: 0.176\n"
     ]
    },
    {
     "name": "stderr",
     "output_type": "stream",
     "text": [
      "\n",
      "python(44768) MallocStackLogging: can't turn off malloc stack logging because it was not enabled.\n",
      "python(44769) MallocStackLogging: can't turn off malloc stack logging because it was not enabled.\n",
      "python(44776) MallocStackLogging: can't turn off malloc stack logging because it was not enabled.\n",
      "python(44780) MallocStackLogging: can't turn off malloc stack logging because it was not enabled.\n"
     ]
    },
    {
     "name": "stdout",
     "output_type": "stream",
     "text": [
      "- Eval metrics : accuracy: 0.868 ; loss: 0.000\n",
      "False\n",
      "Epoch 13/20\n"
     ]
    },
    {
     "name": "stderr",
     "output_type": "stream",
     "text": [
      "  0%|                                                                            | 0/58 [00:00<?, ?it/s]python(44845) MallocStackLogging: can't turn off malloc stack logging because it was not enabled.\n",
      "python(44846) MallocStackLogging: can't turn off malloc stack logging because it was not enabled.\n",
      "python(44847) MallocStackLogging: can't turn off malloc stack logging because it was not enabled.\n",
      "python(44848) MallocStackLogging: can't turn off malloc stack logging because it was not enabled.\n",
      "100%|███████████████████████████████████████████████████████| 58/58 [00:21<00:00,  2.66it/s, loss=0.162]"
     ]
    },
    {
     "name": "stdout",
     "output_type": "stream",
     "text": [
      "- Train metrics: accuracy: 0.953 ; loss: 0.153\n"
     ]
    },
    {
     "name": "stderr",
     "output_type": "stream",
     "text": [
      "\n",
      "python(45297) MallocStackLogging: can't turn off malloc stack logging because it was not enabled.\n",
      "python(45298) MallocStackLogging: can't turn off malloc stack logging because it was not enabled.\n",
      "python(45302) MallocStackLogging: can't turn off malloc stack logging because it was not enabled.\n",
      "python(45303) MallocStackLogging: can't turn off malloc stack logging because it was not enabled.\n"
     ]
    },
    {
     "name": "stdout",
     "output_type": "stream",
     "text": [
      "- Eval metrics : accuracy: 0.883 ; loss: 0.000\n",
      "True\n",
      "- Found new best accuracy\n",
      "Epoch 14/20\n"
     ]
    },
    {
     "name": "stderr",
     "output_type": "stream",
     "text": [
      "  0%|                                                                            | 0/58 [00:00<?, ?it/s]python(45462) MallocStackLogging: can't turn off malloc stack logging because it was not enabled.\n",
      "python(45466) MallocStackLogging: can't turn off malloc stack logging because it was not enabled.\n",
      "python(45472) MallocStackLogging: can't turn off malloc stack logging because it was not enabled.\n",
      "python(45474) MallocStackLogging: can't turn off malloc stack logging because it was not enabled.\n",
      "100%|███████████████████████████████████████████████████████| 58/58 [00:19<00:00,  2.92it/s, loss=0.153]"
     ]
    },
    {
     "name": "stdout",
     "output_type": "stream",
     "text": [
      "- Train metrics: accuracy: 0.938 ; loss: 0.159\n"
     ]
    },
    {
     "name": "stderr",
     "output_type": "stream",
     "text": [
      "\n",
      "python(45869) MallocStackLogging: can't turn off malloc stack logging because it was not enabled.\n",
      "python(45876) MallocStackLogging: can't turn off malloc stack logging because it was not enabled.\n",
      "python(45877) MallocStackLogging: can't turn off malloc stack logging because it was not enabled.\n",
      "python(45881) MallocStackLogging: can't turn off malloc stack logging because it was not enabled.\n"
     ]
    },
    {
     "name": "stdout",
     "output_type": "stream",
     "text": [
      "- Eval metrics : accuracy: 0.883 ; loss: 0.000\n",
      "False\n",
      "Epoch 15/20\n"
     ]
    },
    {
     "name": "stderr",
     "output_type": "stream",
     "text": [
      "  0%|                                                                            | 0/58 [00:00<?, ?it/s]python(45924) MallocStackLogging: can't turn off malloc stack logging because it was not enabled.\n",
      "python(45925) MallocStackLogging: can't turn off malloc stack logging because it was not enabled.\n",
      "python(45926) MallocStackLogging: can't turn off malloc stack logging because it was not enabled.\n",
      "python(45927) MallocStackLogging: can't turn off malloc stack logging because it was not enabled.\n",
      "100%|███████████████████████████████████████████████████████| 58/58 [00:19<00:00,  2.99it/s, loss=0.149]"
     ]
    },
    {
     "name": "stdout",
     "output_type": "stream",
     "text": [
      "- Train metrics: accuracy: 0.953 ; loss: 0.146\n"
     ]
    },
    {
     "name": "stderr",
     "output_type": "stream",
     "text": [
      "\n",
      "python(46163) MallocStackLogging: can't turn off malloc stack logging because it was not enabled.\n",
      "python(46164) MallocStackLogging: can't turn off malloc stack logging because it was not enabled.\n",
      "python(46165) MallocStackLogging: can't turn off malloc stack logging because it was not enabled.\n",
      "python(46166) MallocStackLogging: can't turn off malloc stack logging because it was not enabled.\n"
     ]
    },
    {
     "name": "stdout",
     "output_type": "stream",
     "text": [
      "- Eval metrics : accuracy: 0.886 ; loss: 0.000\n",
      "True\n",
      "- Found new best accuracy\n",
      "Epoch 16/20\n"
     ]
    },
    {
     "name": "stderr",
     "output_type": "stream",
     "text": [
      "  0%|                                                                            | 0/58 [00:00<?, ?it/s]python(46222) MallocStackLogging: can't turn off malloc stack logging because it was not enabled.\n",
      "python(46223) MallocStackLogging: can't turn off malloc stack logging because it was not enabled.\n",
      "python(46224) MallocStackLogging: can't turn off malloc stack logging because it was not enabled.\n",
      "python(46225) MallocStackLogging: can't turn off malloc stack logging because it was not enabled.\n",
      "100%|███████████████████████████████████████████████████████| 58/58 [00:21<00:00,  2.72it/s, loss=0.142]"
     ]
    },
    {
     "name": "stdout",
     "output_type": "stream",
     "text": [
      "- Train metrics: accuracy: 0.977 ; loss: 0.144\n"
     ]
    },
    {
     "name": "stderr",
     "output_type": "stream",
     "text": [
      "\n",
      "python(46570) MallocStackLogging: can't turn off malloc stack logging because it was not enabled.\n",
      "python(46571) MallocStackLogging: can't turn off malloc stack logging because it was not enabled.\n",
      "python(46574) MallocStackLogging: can't turn off malloc stack logging because it was not enabled.\n",
      "python(46575) MallocStackLogging: can't turn off malloc stack logging because it was not enabled.\n"
     ]
    },
    {
     "name": "stdout",
     "output_type": "stream",
     "text": [
      "- Eval metrics : accuracy: 0.886 ; loss: 0.000\n",
      "True\n",
      "- Found new best accuracy\n",
      "Epoch 17/20\n"
     ]
    },
    {
     "name": "stderr",
     "output_type": "stream",
     "text": [
      "  0%|                                                                            | 0/58 [00:00<?, ?it/s]python(46649) MallocStackLogging: can't turn off malloc stack logging because it was not enabled.\n",
      "python(46650) MallocStackLogging: can't turn off malloc stack logging because it was not enabled.\n",
      "python(46651) MallocStackLogging: can't turn off malloc stack logging because it was not enabled.\n",
      "python(46653) MallocStackLogging: can't turn off malloc stack logging because it was not enabled.\n",
      "100%|███████████████████████████████████████████████████████| 58/58 [00:19<00:00,  2.93it/s, loss=0.136]"
     ]
    },
    {
     "name": "stdout",
     "output_type": "stream",
     "text": [
      "- Train metrics: accuracy: 0.953 ; loss: 0.136\n"
     ]
    },
    {
     "name": "stderr",
     "output_type": "stream",
     "text": [
      "\n",
      "python(47067) MallocStackLogging: can't turn off malloc stack logging because it was not enabled.\n",
      "python(47068) MallocStackLogging: can't turn off malloc stack logging because it was not enabled.\n",
      "python(47069) MallocStackLogging: can't turn off malloc stack logging because it was not enabled.\n",
      "python(47070) MallocStackLogging: can't turn off malloc stack logging because it was not enabled.\n"
     ]
    },
    {
     "name": "stdout",
     "output_type": "stream",
     "text": [
      "- Eval metrics : accuracy: 0.873 ; loss: 0.000\n",
      "False\n",
      "Epoch 18/20\n"
     ]
    },
    {
     "name": "stderr",
     "output_type": "stream",
     "text": [
      "  0%|                                                                            | 0/58 [00:00<?, ?it/s]python(47129) MallocStackLogging: can't turn off malloc stack logging because it was not enabled.\n",
      "python(47132) MallocStackLogging: can't turn off malloc stack logging because it was not enabled.\n",
      "python(47133) MallocStackLogging: can't turn off malloc stack logging because it was not enabled.\n",
      "python(47136) MallocStackLogging: can't turn off malloc stack logging because it was not enabled.\n",
      "100%|███████████████████████████████████████████████████████| 58/58 [00:20<00:00,  2.88it/s, loss=0.132]"
     ]
    },
    {
     "name": "stdout",
     "output_type": "stream",
     "text": [
      "- Train metrics: accuracy: 0.953 ; loss: 0.128\n"
     ]
    },
    {
     "name": "stderr",
     "output_type": "stream",
     "text": [
      "\n",
      "python(47479) MallocStackLogging: can't turn off malloc stack logging because it was not enabled.\n",
      "python(47482) MallocStackLogging: can't turn off malloc stack logging because it was not enabled.\n",
      "python(47483) MallocStackLogging: can't turn off malloc stack logging because it was not enabled.\n",
      "python(47486) MallocStackLogging: can't turn off malloc stack logging because it was not enabled.\n"
     ]
    },
    {
     "name": "stdout",
     "output_type": "stream",
     "text": [
      "- Eval metrics : accuracy: 0.890 ; loss: 0.000\n",
      "True\n",
      "- Found new best accuracy\n",
      "Epoch 19/20\n"
     ]
    },
    {
     "name": "stderr",
     "output_type": "stream",
     "text": [
      "  0%|                                                                            | 0/58 [00:00<?, ?it/s]python(47594) MallocStackLogging: can't turn off malloc stack logging because it was not enabled.\n",
      "python(47597) MallocStackLogging: can't turn off malloc stack logging because it was not enabled.\n",
      "python(47599) MallocStackLogging: can't turn off malloc stack logging because it was not enabled.\n",
      "python(47604) MallocStackLogging: can't turn off malloc stack logging because it was not enabled.\n",
      "100%|███████████████████████████████████████████████████████| 58/58 [00:18<00:00,  3.15it/s, loss=0.128]"
     ]
    },
    {
     "name": "stdout",
     "output_type": "stream",
     "text": [
      "- Train metrics: accuracy: 0.969 ; loss: 0.122\n"
     ]
    },
    {
     "name": "stderr",
     "output_type": "stream",
     "text": [
      "\n",
      "python(47879) MallocStackLogging: can't turn off malloc stack logging because it was not enabled.\n",
      "python(47880) MallocStackLogging: can't turn off malloc stack logging because it was not enabled.\n",
      "python(47883) MallocStackLogging: can't turn off malloc stack logging because it was not enabled.\n",
      "python(47884) MallocStackLogging: can't turn off malloc stack logging because it was not enabled.\n"
     ]
    },
    {
     "name": "stdout",
     "output_type": "stream",
     "text": [
      "- Eval metrics : accuracy: 0.881 ; loss: 0.000\n",
      "False\n",
      "Epoch 20/20\n"
     ]
    },
    {
     "name": "stderr",
     "output_type": "stream",
     "text": [
      "  0%|                                                                            | 0/58 [00:00<?, ?it/s]python(47957) MallocStackLogging: can't turn off malloc stack logging because it was not enabled.\n",
      "python(47959) MallocStackLogging: can't turn off malloc stack logging because it was not enabled.\n",
      "python(47963) MallocStackLogging: can't turn off malloc stack logging because it was not enabled.\n",
      "python(47964) MallocStackLogging: can't turn off malloc stack logging because it was not enabled.\n",
      "100%|███████████████████████████████████████████████████████| 58/58 [00:17<00:00,  3.23it/s, loss=0.124]"
     ]
    },
    {
     "name": "stdout",
     "output_type": "stream",
     "text": [
      "- Train metrics: accuracy: 0.961 ; loss: 0.112\n"
     ]
    },
    {
     "name": "stderr",
     "output_type": "stream",
     "text": [
      "\n",
      "python(48275) MallocStackLogging: can't turn off malloc stack logging because it was not enabled.\n",
      "python(48276) MallocStackLogging: can't turn off malloc stack logging because it was not enabled.\n",
      "python(48277) MallocStackLogging: can't turn off malloc stack logging because it was not enabled.\n",
      "python(48278) MallocStackLogging: can't turn off malloc stack logging because it was not enabled.\n"
     ]
    },
    {
     "name": "stdout",
     "output_type": "stream",
     "text": [
      "- Eval metrics : accuracy: 0.894 ; loss: 0.000\n",
      "True\n",
      "- Found new best accuracy\n",
      "Teacher param size = %fMB 0.546822\n",
      "Student param size = %fMB 0.16487\n"
     ]
    }
   ],
   "source": [
    "# Train the Student Model with Knowledge Distillation\n",
    "model = TinyNN()\n",
    "optimizer = torch.optim.AdamW(model.parameters(), lr=LR)\n",
    "teacher_model = torch.load('teacher_model.pth.tar')\n",
    "train_dl = train_loader\n",
    "test_dl = test_loader\n",
    "\n",
    "\n",
    "train_and_evaluate_kd(model, teacher_model, train_dl, test_dl, optimizer, loss_fn_kd, metrics)"
   ]
  },
  {
   "cell_type": "code",
   "execution_count": 299,
   "id": "6889b2df",
   "metadata": {},
   "outputs": [
    {
     "name": "stderr",
     "output_type": "stream",
     "text": [
      "python(18066) MallocStackLogging: can't turn off malloc stack logging because it was not enabled.\n",
      "python(18069) MallocStackLogging: can't turn off malloc stack logging because it was not enabled.\n",
      "python(18070) MallocStackLogging: can't turn off malloc stack logging because it was not enabled.\n",
      "python(18071) MallocStackLogging: can't turn off malloc stack logging because it was not enabled.\n",
      "/Users/zliu/opt/anaconda3/lib/python3.9/site-packages/torch/amp/autocast_mode.py:202: UserWarning: User provided device_type of 'cuda', but CUDA is not available. Disabling\n",
      "  warnings.warn('User provided device_type of \\'cuda\\', but CUDA is not available. Disabling')\n"
     ]
    },
    {
     "name": "stdout",
     "output_type": "stream",
     "text": [
      "val-acc: 0.889718\n"
     ]
    }
   ],
   "source": [
    "# Student Model Evaluation Metrics\n",
    "model.eval()\n",
    "cor = 0\n",
    "pred = []\n",
    "gt = []\n",
    "for data, label in test_loader:\n",
    "    data, label = data, label\n",
    "    with autocast():\n",
    "        out = model(data)\n",
    "    _, pre = torch.max(out, 1)\n",
    "    \n",
    "    pred += pre.tolist()\n",
    "    gt += label.tolist()\n",
    "    cor += (pre == label).sum()\n",
    "\n",
    "acc = cor.item()/len(Y_test)\n",
    "print('val-acc: %f' % (acc))\n"
   ]
  },
  {
   "cell_type": "code",
   "execution_count": 194,
   "id": "ebee7c40",
   "metadata": {},
   "outputs": [
    {
     "name": "stdout",
     "output_type": "stream",
     "text": [
      "F1(macro):  0.8881\n"
     ]
    }
   ],
   "source": [
    "print(\"F1(macro): \", round(f1_score(gt, pred, average='macro'), 4))"
   ]
  },
  {
   "cell_type": "code",
   "execution_count": 301,
   "id": "9b80a671",
   "metadata": {},
   "outputs": [
    {
     "data": {
      "text/plain": [
       "<Figure size 1440x1728 with 0 Axes>"
      ]
     },
     "metadata": {},
     "output_type": "display_data"
    },
    {
     "data": {
      "image/png": "[encoded data removed]",
      "text/plain": [
       "<Figure size 432x288 with 2 Axes>"
      ]
     },
     "metadata": {},
     "output_type": "display_data"
    }
   ],
   "source": [
    "# Student Model Confusion Matrix\n",
    "from sklearn.metrics import confusion_matrix, ConfusionMatrixDisplay\n",
    "import matplotlib.pyplot as plt\n",
    "\n",
    "plt.figure(figsize=(20, 24))\n",
    "cm = confusion_matrix(np.array(gt), np.array(pred))\n",
    "disp = ConfusionMatrixDisplay(confusion_matrix=cm, display_labels=list(activity.values()))\n",
    "disp.plot()\n",
    "plt.title(\"KD Model confusion matrix\")\n",
    "plt.xticks(rotation=270)\n",
    "plt.savefig('KD Model CM', dpi = 300)"
   ]
  },
  {
   "cell_type": "markdown",
   "id": "7f465f27",
   "metadata": {},
   "source": [
    "### Quantization\n",
    "\n",
    "Now let's do some quantization post-training with torch.ao.quantization.quantize_dynamic to reduce memory footprint and speed up inference."
   ]
  },
  {
   "cell_type": "code",
   "execution_count": 206,
   "id": "71dfb43b",
   "metadata": {},
   "outputs": [],
   "source": [
    "# quantization with the initial CNN\n",
    "net_int8 = torch.ao.quantization.quantize_dynamic(\n",
    "    net,  # the original model\n",
    "    {nn.Linear},  # a set of layers to dynamically quantize\n",
    "    dtype=torch.qint8)  # the target dtype for quantized weights"
   ]
  },
  {
   "cell_type": "code",
   "execution_count": 208,
   "id": "6e9379ea",
   "metadata": {},
   "outputs": [
    {
     "name": "stderr",
     "output_type": "stream",
     "text": [
      "python(63432) MallocStackLogging: can't turn off malloc stack logging because it was not enabled.\n",
      "python(63433) MallocStackLogging: can't turn off malloc stack logging because it was not enabled.\n",
      "python(63434) MallocStackLogging: can't turn off malloc stack logging because it was not enabled.\n",
      "python(63435) MallocStackLogging: can't turn off malloc stack logging because it was not enabled.\n",
      "/Users/zliu/opt/anaconda3/lib/python3.9/site-packages/torch/amp/autocast_mode.py:202: UserWarning: User provided device_type of 'cuda', but CUDA is not available. Disabling\n",
      "  warnings.warn('User provided device_type of \\'cuda\\', but CUDA is not available. Disabling')\n"
     ]
    },
    {
     "name": "stdout",
     "output_type": "stream",
     "text": [
      "val-acc: 0.958941\n",
      "F1(macro):  0.9593\n"
     ]
    }
   ],
   "source": [
    "net_int8.eval()\n",
    "cor = 0\n",
    "pred = []\n",
    "gt = []\n",
    "for data, label in test_loader:\n",
    "    data, label = data, label\n",
    "    with autocast():\n",
    "        out = net_int8(data)\n",
    "    _, pre = torch.max(out, 1)\n",
    "    \n",
    "    pred += pre.tolist()\n",
    "    gt += label.tolist()\n",
    "    cor += (pre == label).sum()\n",
    "\n",
    "acc = cor.item()/len(Y_test)\n",
    "print('val-acc: %f' % (acc))\n",
    "print(\"F1(macro): \", round(f1_score(gt, pred, average='macro'), 4))"
   ]
  },
  {
   "cell_type": "code",
   "execution_count": 211,
   "id": "34274742",
   "metadata": {},
   "outputs": [],
   "source": [
    "# quantization with the KD Model\n",
    "model_int8 = torch.ao.quantization.quantize_dynamic(\n",
    "    model,  # the original model\n",
    "    {nn.Linear},  # a set of layers to dynamically quantize\n",
    "    dtype=torch.qint8)  # the target dtype for quantized weights"
   ]
  },
  {
   "cell_type": "code",
   "execution_count": 214,
   "id": "2fd13915",
   "metadata": {},
   "outputs": [
    {
     "name": "stderr",
     "output_type": "stream",
     "text": [
      "python(70642) MallocStackLogging: can't turn off malloc stack logging because it was not enabled.\n",
      "python(70643) MallocStackLogging: can't turn off malloc stack logging because it was not enabled.\n",
      "python(70644) MallocStackLogging: can't turn off malloc stack logging because it was not enabled.\n",
      "python(70645) MallocStackLogging: can't turn off malloc stack logging because it was not enabled.\n",
      "/Users/zliu/opt/anaconda3/lib/python3.9/site-packages/torch/amp/autocast_mode.py:202: UserWarning: User provided device_type of 'cuda', but CUDA is not available. Disabling\n",
      "  warnings.warn('User provided device_type of \\'cuda\\', but CUDA is not available. Disabling')\n"
     ]
    },
    {
     "name": "stdout",
     "output_type": "stream",
     "text": [
      "val-acc: 0.889718\n",
      "F1(macro):  0.8881\n"
     ]
    }
   ],
   "source": [
    "model_int8.eval()\n",
    "cor = 0\n",
    "pred = []\n",
    "gt = []\n",
    "for data, label in test_loader:\n",
    "    data, label = data, label\n",
    "    with autocast():\n",
    "        out = model_int8(data)\n",
    "    _, pre = torch.max(out, 1)\n",
    "    \n",
    "    pred += pre.tolist()\n",
    "    gt += label.tolist()\n",
    "    cor += (pre == label).sum()\n",
    "\n",
    "acc = cor.item()/len(Y_test)\n",
    "print('val-acc: %f' % (acc))\n",
    "print(\"F1(macro): \", round(f1_score(gt, pred, average='macro'), 4))"
   ]
  },
  {
   "cell_type": "markdown",
   "id": "ae62917e",
   "metadata": {},
   "source": [
    "### How does the models perform on edge devices?\n",
    "\n",
    "We use the profiler to compare metrics such as CPU time for model inference, memory consumption, and inference speed for the models we built."
   ]
  },
  {
   "cell_type": "code",
   "execution_count": 244,
   "id": "fbe95e89",
   "metadata": {},
   "outputs": [
    {
     "name": "stderr",
     "output_type": "stream",
     "text": [
      "STAGE:2024-06-01 20:37:30 89423:25323328 ActivityProfilerController.cpp:294] Completed Stage: Warm Up\n",
      "python(96931) MallocStackLogging: can't turn off malloc stack logging because it was not enabled.\n",
      "python(96932) MallocStackLogging: can't turn off malloc stack logging because it was not enabled.\n",
      "python(96933) MallocStackLogging: can't turn off malloc stack logging because it was not enabled.\n",
      "python(96934) MallocStackLogging: can't turn off malloc stack logging because it was not enabled.\n"
     ]
    },
    {
     "name": "stdout",
     "output_type": "stream",
     "text": [
      "-------------------------------------------------------  ------------  ------------  ------------  ------------  ------------  ------------  \n",
      "                                                   Name    Self CPU %      Self CPU   CPU total %     CPU total  CPU time avg    # of Calls  \n",
      "-------------------------------------------------------  ------------  ------------  ------------  ------------  ------------  ------------  \n",
      "                                        model_inference        12.70%     693.526ms        99.84%        5.452s        5.452s             1  \n",
      "enumerate(DataLoader)#_MultiProcessingDataLoaderIter...        81.33%        4.441s        81.34%        4.442s        4.442s             1  \n",
      "                                           aten::conv2d         0.00%     122.000us         3.94%     214.978ms      53.745ms             4  \n",
      "                                      aten::convolution         0.02%       1.278ms         3.93%     214.856ms      53.714ms             4  \n",
      "                                     aten::_convolution         0.01%     278.000us         3.91%     213.578ms      53.395ms             4  \n",
      "                               aten::mkldnn_convolution         3.88%     211.651ms         3.91%     213.300ms      53.325ms             4  \n",
      "                                             aten::relu         0.02%       1.091ms         1.00%      54.679ms      13.670ms             4  \n",
      "                                        aten::clamp_min         0.98%      53.588ms         0.98%      53.588ms      13.397ms             4  \n",
      "                                       aten::batch_norm         0.00%     220.000us         0.24%      13.327ms       3.332ms             4  \n",
      "                           aten::_batch_norm_impl_index         0.00%     222.000us         0.24%      13.107ms       3.277ms             4  \n",
      "-------------------------------------------------------  ------------  ------------  ------------  ------------  ------------  ------------  \n",
      "Self CPU time total: 5.461s\n",
      "\n"
     ]
    },
    {
     "name": "stderr",
     "output_type": "stream",
     "text": [
      "STAGE:2024-06-01 20:37:36 89423:25323328 ActivityProfilerController.cpp:300] Completed Stage: Collection\n"
     ]
    }
   ],
   "source": [
    "# model inference speed for the original CNN model\n",
    "\n",
    "from torch.profiler import profile, record_function, ProfilerActivity\n",
    "with profile(activities=[ProfilerActivity.CPU], record_shapes=True) as prof:\n",
    "    with record_function(\"model_inference\"):\n",
    "        for data, label in test_loader:\n",
    "            data, label = data, label\n",
    "            with autocast():\n",
    "                out = net(data)\n",
    "            _, pre = torch.max(out, 1)\n",
    "            break\n",
    "\n",
    "print(prof.key_averages().table(sort_by=\"cpu_time_total\", row_limit=10))"
   ]
  },
  {
   "cell_type": "code",
   "execution_count": 252,
   "id": "708e72fc",
   "metadata": {},
   "outputs": [
    {
     "name": "stderr",
     "output_type": "stream",
     "text": [
      "STAGE:2024-06-01 20:50:10 89423:25323328 ActivityProfilerController.cpp:294] Completed Stage: Warm Up\n",
      "python(14069) MallocStackLogging: can't turn off malloc stack logging because it was not enabled.\n",
      "python(14070) MallocStackLogging: can't turn off malloc stack logging because it was not enabled.\n",
      "python(14071) MallocStackLogging: can't turn off malloc stack logging because it was not enabled.\n",
      "python(14072) MallocStackLogging: can't turn off malloc stack logging because it was not enabled.\n"
     ]
    },
    {
     "name": "stdout",
     "output_type": "stream",
     "text": [
      "-------------------------------------------------------  ------------  ------------  ------------  ------------  ------------  ------------  ------------  ------------  \n",
      "                                                   Name    Self CPU %      Self CPU   CPU total %     CPU total  CPU time avg       CPU Mem  Self CPU Mem    # of Calls  \n",
      "-------------------------------------------------------  ------------  ------------  ------------  ------------  ------------  ------------  ------------  ------------  \n",
      "                                            aten::empty         0.07%       5.159ms         0.07%       5.159ms     122.833us     144.03 Mb     144.03 Mb            42  \n",
      "                                           aten::conv2d         0.00%     196.000us         6.60%     476.751ms     119.188ms      72.00 Mb           0 b             4  \n",
      "                                      aten::convolution         0.01%     904.000us         6.60%     476.555ms     119.139ms      72.00 Mb           0 b             4  \n",
      "                                     aten::_convolution         0.00%     318.000us         6.58%     475.651ms     118.913ms      72.00 Mb           0 b             4  \n",
      "                               aten::mkldnn_convolution         6.56%     473.764ms         6.58%     475.333ms     118.833ms      72.00 Mb           0 b             4  \n",
      "                                       aten::batch_norm         0.01%     567.000us         0.36%      26.222ms       6.556ms      72.00 Mb           0 b             4  \n",
      "                           aten::_batch_norm_impl_index         0.00%     217.000us         0.36%      25.655ms       6.414ms      72.00 Mb           0 b             4  \n",
      "                                aten::native_batch_norm         0.34%      24.798ms         0.35%      25.358ms       6.340ms      72.00 Mb      -7.50 Kb             4  \n",
      "                                       aten::empty_like         0.00%      19.000us         0.00%      98.000us      24.500us      72.00 Mb           0 b             4  \n",
      "                                             aten::relu         0.01%     863.000us         1.68%     121.373ms      30.343ms      72.00 Mb           0 b             4  \n",
      "                                        aten::clamp_min         1.67%     120.510ms         1.67%     120.510ms      30.128ms      72.00 Mb      72.00 Mb             4  \n",
      "                                          aten::resize_         0.00%      75.000us         0.00%      75.000us      25.000us       2.25 Mb       2.25 Mb             3  \n",
      "                              aten::adaptive_avg_pool2d         0.00%      91.000us         0.53%      38.495ms      38.495ms       2.25 Mb           0 b             1  \n",
      "                             aten::_adaptive_avg_pool2d         0.53%      38.324ms         0.53%      38.404ms      38.404ms       2.25 Mb           0 b             1  \n",
      "enumerate(DataLoader)#_MultiProcessingDataLoaderIter...        90.68%        6.552s        90.69%        6.553s        6.553s       1.13 Mb       1.13 Mb             1  \n",
      "                                         aten::randperm         0.03%       2.273ms         0.08%       5.479ms       2.740ms      23.02 Kb          -8 b             2  \n",
      "                                           aten::linear         0.00%      91.000us         0.04%       2.834ms       2.834ms       3.00 Kb           0 b             1  \n",
      "                                            aten::addmm         0.03%       2.401ms         0.03%       2.462ms       2.462ms       3.00 Kb       3.00 Kb             1  \n",
      "                                              aten::max         0.01%     465.000us         0.01%     504.000us     504.000us       1.50 Kb       1.50 Kb             1  \n",
      "                                    aten::scalar_tensor         0.01%     574.000us         0.01%     574.000us     574.000us           8 b           8 b             1  \n",
      "                                            aten::zeros         0.00%      60.000us         0.00%     152.000us     152.000us           4 b           0 b             1  \n",
      "                                          aten::random_         0.00%     219.000us         0.00%     219.000us     109.500us           0 b           0 b             2  \n",
      "                                             aten::item         0.00%     116.000us         0.00%     122.000us      61.000us           0 b           0 b             2  \n",
      "                              aten::_local_scalar_dense         0.00%       6.000us         0.00%       6.000us       3.000us           0 b           0 b             2  \n",
      "                                     aten::resolve_conj         0.00%       1.000us         0.00%       1.000us       0.333us           0 b           0 b             3  \n",
      "                                      aten::resolve_neg         0.00%       0.000us         0.00%       0.000us       0.000us           0 b           0 b             1  \n",
      "                                            aten::zero_         0.00%       2.000us         0.00%       2.000us       2.000us           0 b           0 b             1  \n",
      "                                               aten::to         0.00%       4.000us         0.00%       4.000us       1.000us           0 b           0 b             4  \n",
      "                                       aten::lift_fresh         0.00%       1.000us         0.00%       1.000us       0.250us           0 b           0 b             4  \n",
      "                                          aten::detach_         0.00%      18.000us         0.00%     216.000us      54.000us           0 b           0 b             4  \n",
      "                                                detach_         0.00%     198.000us         0.00%     198.000us      49.500us           0 b           0 b             4  \n",
      "                                             aten::set_         0.00%      56.000us         0.00%      56.000us      14.000us           0 b           0 b             4  \n",
      "                                      aten::as_strided_         0.00%      41.000us         0.00%      41.000us       5.125us           0 b           0 b             8  \n",
      "                                             aten::view         0.01%     618.000us         0.01%     618.000us     618.000us           0 b           0 b             1  \n",
      "                                                aten::t         0.00%     132.000us         0.00%     281.000us     281.000us           0 b           0 b             1  \n",
      "                                        aten::transpose         0.00%      99.000us         0.00%     149.000us     149.000us           0 b           0 b             1  \n",
      "                                       aten::as_strided         0.00%      53.000us         0.00%      53.000us      26.500us           0 b           0 b             2  \n",
      "                                           aten::expand         0.00%       8.000us         0.00%      11.000us      11.000us           0 b           0 b             1  \n",
      "                                            aten::copy_         0.00%      50.000us         0.00%      50.000us      50.000us           0 b           0 b             1  \n",
      "                                       aten::unsqueeze_         0.00%      18.000us         0.00%      24.000us      12.000us           0 b           0 b             2  \n",
      "                                         aten::squeeze_         0.00%      11.000us         0.00%      15.000us       7.500us           0 b           0 b             2  \n",
      "                                               [memory]         0.00%       0.000us         0.00%       0.000us       0.000us    -219.40 Mb    -219.40 Mb            23  \n",
      "-------------------------------------------------------  ------------  ------------  ------------  ------------  ------------  ------------  ------------  ------------  \n",
      "Self CPU time total: 7.225s\n",
      "\n"
     ]
    },
    {
     "name": "stderr",
     "output_type": "stream",
     "text": [
      "STAGE:2024-06-01 20:50:18 89423:25323328 ActivityProfilerController.cpp:300] Completed Stage: Collection\n"
     ]
    }
   ],
   "source": [
    "# memory footprint for the original CNN model\n",
    "\n",
    "from torch.profiler import profile, record_function, ProfilerActivity\n",
    "with profile(activities=[ProfilerActivity.CPU],\n",
    "        profile_memory=True, record_shapes=True) as prof:\n",
    "    for data, label in test_loader:\n",
    "        data, label = data, label\n",
    "        with autocast():\n",
    "            out = net(data)\n",
    "        _, pre = torch.max(out, 1)\n",
    "        break\n",
    "\n",
    "print(prof.key_averages().table(sort_by=\"cpu_memory_usage\"))"
   ]
  },
  {
   "cell_type": "code",
   "execution_count": 245,
   "id": "3d5899b1",
   "metadata": {},
   "outputs": [
    {
     "name": "stderr",
     "output_type": "stream",
     "text": [
      "STAGE:2024-06-01 20:37:57 89423:25323328 ActivityProfilerController.cpp:294] Completed Stage: Warm Up\n",
      "python(97567) MallocStackLogging: can't turn off malloc stack logging because it was not enabled.\n",
      "python(97568) MallocStackLogging: can't turn off malloc stack logging because it was not enabled.\n",
      "python(97569) MallocStackLogging: can't turn off malloc stack logging because it was not enabled.\n",
      "python(97570) MallocStackLogging: can't turn off malloc stack logging because it was not enabled.\n"
     ]
    },
    {
     "name": "stdout",
     "output_type": "stream",
     "text": [
      "-------------------------------------------------------  ------------  ------------  ------------  ------------  ------------  ------------  \n",
      "                                                   Name    Self CPU %      Self CPU   CPU total %     CPU total  CPU time avg    # of Calls  \n",
      "-------------------------------------------------------  ------------  ------------  ------------  ------------  ------------  ------------  \n",
      "                                        model_inference        24.96%     396.274ms        99.92%        1.587s        1.587s             1  \n",
      "enumerate(DataLoader)#_MultiProcessingDataLoaderIter...        73.14%        1.161s        73.15%        1.161s        1.161s             1  \n",
      "                                           aten::linear         0.00%      61.000us         1.50%      23.793ms       7.931ms             3  \n",
      "                                            aten::addmm         1.25%      19.918ms         1.35%      21.503ms       7.168ms             3  \n",
      "                                         aten::randperm         0.13%       2.064ms         0.37%       5.907ms       2.954ms             2  \n",
      "                                                aten::t         0.13%       2.141ms         0.14%       2.229ms     743.000us             3  \n",
      "                                            aten::empty         0.13%       2.030ms         0.13%       2.030ms     119.412us            17  \n",
      "                                            aten::zeros         0.08%       1.294ms         0.13%       1.994ms     997.000us             2  \n",
      "                                            aten::copy_         0.10%       1.572ms         0.10%       1.572ms     524.000us             3  \n",
      "                                    aten::scalar_tensor         0.03%     551.000us         0.03%     551.000us     551.000us             1  \n",
      "-------------------------------------------------------  ------------  ------------  ------------  ------------  ------------  ------------  \n",
      "Self CPU time total: 1.588s\n",
      "\n"
     ]
    },
    {
     "name": "stderr",
     "output_type": "stream",
     "text": [
      "STAGE:2024-06-01 20:37:59 89423:25323328 ActivityProfilerController.cpp:300] Completed Stage: Collection\n"
     ]
    }
   ],
   "source": [
    "# model inference speed for the student model\n",
    "\n",
    "from torch.profiler import profile, record_function, ProfilerActivity\n",
    "with profile(activities=[ProfilerActivity.CPU], record_shapes=True) as prof:\n",
    "    with record_function(\"model_inference\"):\n",
    "        for data, label in test_loader:\n",
    "            data, label = data, label\n",
    "            with autocast():\n",
    "                out = model(data)\n",
    "            _, pre = torch.max(out, 1)\n",
    "            break\n",
    "\n",
    "print(prof.key_averages().table(sort_by=\"cpu_time_total\", row_limit=10))"
   ]
  },
  {
   "cell_type": "code",
   "execution_count": 253,
   "id": "a6412e7e",
   "metadata": {},
   "outputs": [
    {
     "name": "stderr",
     "output_type": "stream",
     "text": [
      "STAGE:2024-06-01 20:51:11 89423:25323328 ActivityProfilerController.cpp:294] Completed Stage: Warm Up\n",
      "python(15061) MallocStackLogging: can't turn off malloc stack logging because it was not enabled.\n",
      "python(15064) MallocStackLogging: can't turn off malloc stack logging because it was not enabled.\n",
      "python(15068) MallocStackLogging: can't turn off malloc stack logging because it was not enabled.\n",
      "python(15070) MallocStackLogging: can't turn off malloc stack logging because it was not enabled.\n"
     ]
    },
    {
     "name": "stdout",
     "output_type": "stream",
     "text": [
      "-------------------------------------------------------  ------------  ------------  ------------  ------------  ------------  ------------  ------------  ------------  \n",
      "                                                   Name    Self CPU %      Self CPU   CPU total %     CPU total  CPU time avg       CPU Mem  Self CPU Mem    # of Calls  \n",
      "-------------------------------------------------------  ------------  ------------  ------------  ------------  ------------  ------------  ------------  ------------  \n",
      "enumerate(DataLoader)#_MultiProcessingDataLoaderIter...        99.80%        5.216s        99.81%        5.216s        5.216s     577.12 Kb     576.85 Kb             1  \n",
      "                                           aten::linear         0.00%      35.000us         0.11%       5.819ms       1.940ms     131.00 Kb           0 b             3  \n",
      "                                            aten::addmm         0.10%       5.315ms         0.10%       5.446ms       1.815ms     131.00 Kb     131.00 Kb             3  \n",
      "                                             aten::relu         0.02%       1.076ms         0.03%       1.441ms     720.500us     128.00 Kb           0 b             2  \n",
      "                                        aten::clamp_min         0.01%     365.000us         0.01%     365.000us     182.500us     128.00 Kb     128.00 Kb             2  \n",
      "                                            aten::empty         0.03%       1.458ms         0.03%       1.458ms     208.286us      23.32 Kb      23.32 Kb             7  \n",
      "                                         aten::randperm         0.01%     718.000us         0.04%       1.948ms     974.000us      23.02 Kb          -8 b             2  \n",
      "                                              aten::max         0.00%     127.000us         0.00%     143.000us     143.000us       1.50 Kb       1.50 Kb             1  \n",
      "                                    aten::scalar_tensor         0.00%     195.000us         0.00%     195.000us     195.000us           8 b           8 b             1  \n",
      "                                            aten::zeros         0.00%      25.000us         0.01%     570.000us     570.000us           4 b           0 b             1  \n",
      "                                          aten::random_         0.00%      75.000us         0.00%      75.000us      37.500us           0 b           0 b             2  \n",
      "                                             aten::item         0.00%      16.000us         0.00%      21.000us      10.500us           0 b           0 b             2  \n",
      "                              aten::_local_scalar_dense         0.00%       5.000us         0.00%       5.000us       2.500us           0 b           0 b             2  \n",
      "                                          aten::resize_         0.00%       3.000us         0.00%       3.000us       1.500us           0 b           0 b             2  \n",
      "                                     aten::resolve_conj         0.00%       2.000us         0.00%       2.000us       0.286us           0 b           0 b             7  \n",
      "                                      aten::resolve_neg         0.00%       0.000us         0.00%       0.000us       0.000us           0 b           0 b             1  \n",
      "                                            aten::zero_         0.00%       1.000us         0.00%       1.000us       1.000us           0 b           0 b             1  \n",
      "                                               aten::to         0.00%       2.000us         0.00%       2.000us       1.000us           0 b           0 b             2  \n",
      "                                       aten::lift_fresh         0.00%       0.000us         0.00%       0.000us       0.000us           0 b           0 b             2  \n",
      "                                          aten::detach_         0.00%       8.000us         0.00%      38.000us      19.000us           0 b           0 b             2  \n",
      "                                                detach_         0.00%      30.000us         0.00%      30.000us      15.000us           0 b           0 b             2  \n",
      "                                             aten::set_         0.00%      22.000us         0.00%      22.000us      11.000us           0 b           0 b             2  \n",
      "                                          aten::flatten         0.01%     263.000us         0.01%     305.000us     305.000us           0 b           0 b             1  \n",
      "                                   aten::_reshape_alias         0.00%      42.000us         0.00%      42.000us      42.000us           0 b           0 b             1  \n",
      "                                                aten::t         0.01%     273.000us         0.01%     338.000us     112.667us           0 b           0 b             3  \n",
      "                                        aten::transpose         0.00%      42.000us         0.00%      65.000us      21.667us           0 b           0 b             3  \n",
      "                                       aten::as_strided         0.00%      32.000us         0.00%      32.000us       5.333us           0 b           0 b             6  \n",
      "                                           aten::expand         0.00%      13.000us         0.00%      22.000us       7.333us           0 b           0 b             3  \n",
      "                                            aten::copy_         0.00%     109.000us         0.00%     109.000us      36.333us           0 b           0 b             3  \n",
      "                                       aten::unsqueeze_         0.00%       8.000us         0.00%      10.000us       5.000us           0 b           0 b             2  \n",
      "                                      aten::as_strided_         0.00%       3.000us         0.00%       3.000us       0.750us           0 b           0 b             4  \n",
      "                                         aten::squeeze_         0.00%       5.000us         0.00%       6.000us       3.000us           0 b           0 b             2  \n",
      "                                               [memory]         0.00%       0.000us         0.00%       0.000us       0.000us    -146.97 Mb    -146.97 Mb            19  \n",
      "-------------------------------------------------------  ------------  ------------  ------------  ------------  ------------  ------------  ------------  ------------  \n",
      "Self CPU time total: 5.227s\n",
      "\n"
     ]
    },
    {
     "name": "stderr",
     "output_type": "stream",
     "text": [
      "STAGE:2024-06-01 20:51:17 89423:25323328 ActivityProfilerController.cpp:300] Completed Stage: Collection\n"
     ]
    }
   ],
   "source": [
    "# memory footprint for the student model\n",
    "\n",
    "from torch.profiler import profile, record_function, ProfilerActivity\n",
    "with profile(activities=[ProfilerActivity.CPU],\n",
    "        profile_memory=True, record_shapes=True) as prof:\n",
    "    for data, label in test_loader:\n",
    "        data, label = data, label\n",
    "        with autocast():\n",
    "            out = model(data)\n",
    "        _, pre = torch.max(out, 1)\n",
    "        break\n",
    "\n",
    "print(prof.key_averages().table(sort_by=\"cpu_memory_usage\"))"
   ]
  },
  {
   "cell_type": "code",
   "execution_count": 248,
   "id": "f4481c1c",
   "metadata": {},
   "outputs": [
    {
     "name": "stderr",
     "output_type": "stream",
     "text": [
      "STAGE:2024-06-01 20:39:51 89423:25323328 ActivityProfilerController.cpp:294] Completed Stage: Warm Up\n",
      "python(105) MallocStackLogging: can't turn off malloc stack logging because it was not enabled.\n",
      "python(106) MallocStackLogging: can't turn off malloc stack logging because it was not enabled.\n",
      "python(107) MallocStackLogging: can't turn off malloc stack logging because it was not enabled.\n",
      "python(108) MallocStackLogging: can't turn off malloc stack logging because it was not enabled.\n"
     ]
    },
    {
     "name": "stdout",
     "output_type": "stream",
     "text": [
      "-------------------------------------------------------  ------------  ------------  ------------  ------------  ------------  ------------  \n",
      "                                                   Name    Self CPU %      Self CPU   CPU total %     CPU total  CPU time avg    # of Calls  \n",
      "-------------------------------------------------------  ------------  ------------  ------------  ------------  ------------  ------------  \n",
      "                                        model_inference        18.95%     449.672ms       100.00%        2.373s        2.373s             1  \n",
      "enumerate(DataLoader)#_MultiProcessingDataLoaderIter...        72.12%        1.712s        72.12%        1.712s        1.712s             1  \n",
      "                                           aten::conv2d         0.00%      22.000us         6.77%     160.767ms      40.192ms             4  \n",
      "                                      aten::convolution         0.01%     170.000us         6.77%     160.745ms      40.186ms             4  \n",
      "                                     aten::_convolution         0.00%      65.000us         6.77%     160.575ms      40.144ms             4  \n",
      "                               aten::mkldnn_convolution         6.76%     160.426ms         6.76%     160.510ms      40.127ms             4  \n",
      "                                             aten::relu         0.01%     131.000us         1.50%      35.523ms       8.881ms             4  \n",
      "                                        aten::clamp_min         1.49%      35.392ms         1.49%      35.392ms       8.848ms             4  \n",
      "                                       aten::batch_norm         0.00%      31.000us         0.44%      10.367ms       2.592ms             4  \n",
      "                           aten::_batch_norm_impl_index         0.00%      49.000us         0.44%      10.336ms       2.584ms             4  \n",
      "-------------------------------------------------------  ------------  ------------  ------------  ------------  ------------  ------------  \n",
      "Self CPU time total: 2.373s\n",
      "\n"
     ]
    },
    {
     "name": "stderr",
     "output_type": "stream",
     "text": [
      "STAGE:2024-06-01 20:39:53 89423:25323328 ActivityProfilerController.cpp:300] Completed Stage: Collection\n"
     ]
    }
   ],
   "source": [
    "# model inference speed for the CNN model with quantization\n",
    "\n",
    "from torch.profiler import profile, record_function, ProfilerActivity\n",
    "with profile(activities=[ProfilerActivity.CPU], record_shapes=True) as prof:\n",
    "    with record_function(\"model_inference\"):\n",
    "        for data, label in test_loader:\n",
    "            data, label = data, label\n",
    "            with autocast():\n",
    "                out = net_int8(data)\n",
    "            _, pre = torch.max(out, 1)\n",
    "            break\n",
    "\n",
    "print(prof.key_averages().table(sort_by=\"cpu_time_total\", row_limit=10))"
   ]
  },
  {
   "cell_type": "code",
   "execution_count": 255,
   "id": "e3c99005",
   "metadata": {},
   "outputs": [
    {
     "name": "stderr",
     "output_type": "stream",
     "text": [
      "STAGE:2024-06-01 20:53:46 89423:25323328 ActivityProfilerController.cpp:294] Completed Stage: Warm Up\n",
      "python(19316) MallocStackLogging: can't turn off malloc stack logging because it was not enabled.\n",
      "python(19317) MallocStackLogging: can't turn off malloc stack logging because it was not enabled.\n",
      "python(19318) MallocStackLogging: can't turn off malloc stack logging because it was not enabled.\n",
      "python(19319) MallocStackLogging: can't turn off malloc stack logging because it was not enabled.\n"
     ]
    },
    {
     "name": "stdout",
     "output_type": "stream",
     "text": [
      "-------------------------------------------------------  ------------  ------------  ------------  ------------  ------------  ------------  ------------  ------------  \n",
      "                                                   Name    Self CPU %      Self CPU   CPU total %     CPU total  CPU time avg       CPU Mem  Self CPU Mem    # of Calls  \n",
      "-------------------------------------------------------  ------------  ------------  ------------  ------------  ------------  ------------  ------------  ------------  \n",
      "                                            aten::empty         0.05%       1.421ms         0.05%       1.421ms      33.833us     144.04 Mb     144.04 Mb            42  \n",
      "                                       aten::empty_like         0.00%      21.000us         0.00%      59.000us      11.800us      72.00 Mb           0 b             5  \n",
      "                                           aten::conv2d         0.00%      29.000us         5.17%     150.024ms      37.506ms      72.00 Mb           0 b             4  \n",
      "                                      aten::convolution         0.01%     290.000us         5.17%     149.995ms      37.499ms      72.00 Mb           0 b             4  \n",
      "                                     aten::_convolution         0.00%      74.000us         5.16%     149.705ms      37.426ms      72.00 Mb           0 b             4  \n",
      "                               aten::mkldnn_convolution         5.15%     149.540ms         5.16%     149.631ms      37.408ms      72.00 Mb           0 b             4  \n",
      "                                       aten::batch_norm         0.00%      34.000us         0.42%      12.091ms       3.023ms      72.00 Mb           0 b             4  \n",
      "                           aten::_batch_norm_impl_index         0.00%      62.000us         0.42%      12.057ms       3.014ms      72.00 Mb           0 b             4  \n",
      "                                aten::native_batch_norm         0.40%      11.728ms         0.41%      11.933ms       2.983ms      72.00 Mb      -7.50 Kb             4  \n",
      "                                             aten::relu         0.00%     143.000us         1.14%      33.197ms       8.299ms      72.00 Mb           0 b             4  \n",
      "                                        aten::clamp_min         1.14%      33.054ms         1.14%      33.054ms       8.264ms      72.00 Mb      72.00 Mb             4  \n",
      "                                          aten::resize_         0.00%       7.000us         0.00%       7.000us       2.333us       2.25 Mb       2.25 Mb             3  \n",
      "                              aten::adaptive_avg_pool2d         0.00%       8.000us         0.20%       5.824ms       5.824ms       2.25 Mb           0 b             1  \n",
      "                             aten::_adaptive_avg_pool2d         0.20%       5.807ms         0.20%       5.816ms       5.816ms       2.25 Mb           0 b             1  \n",
      "enumerate(DataLoader)#_MultiProcessingDataLoaderIter...        92.95%        2.696s        92.95%        2.696s        2.696s     577.12 Kb     576.85 Kb             1  \n",
      "                                         aten::randperm         0.01%     365.000us         0.06%       1.668ms     834.000us      23.02 Kb          -8 b             2  \n",
      "                              quantized::linear_dynamic         0.03%     878.000us         0.03%     901.000us     901.000us       3.00 Kb      -3.00 Kb             1  \n",
      "                                              aten::max         0.00%      60.000us         0.00%      79.000us      79.000us       1.50 Kb       1.50 Kb             1  \n",
      "                                    aten::scalar_tensor         0.01%     151.000us         0.01%     151.000us     151.000us           8 b           8 b             1  \n",
      "                                            aten::zeros         0.00%      15.000us         0.00%      52.000us      52.000us           4 b           0 b             1  \n",
      "                                          aten::random_         0.03%     854.000us         0.03%     854.000us     427.000us           0 b           0 b             2  \n",
      "                                             aten::item         0.00%       8.000us         0.00%      10.000us       5.000us           0 b           0 b             2  \n",
      "                              aten::_local_scalar_dense         0.00%       2.000us         0.00%       2.000us       1.000us           0 b           0 b             2  \n",
      "                                     aten::resolve_conj         0.00%       0.000us         0.00%       0.000us       0.000us           0 b           0 b             1  \n",
      "                                      aten::resolve_neg         0.00%       0.000us         0.00%       0.000us       0.000us           0 b           0 b             1  \n",
      "                                            aten::zero_         0.00%       1.000us         0.00%       1.000us       1.000us           0 b           0 b             1  \n",
      "                                               aten::to         0.00%       2.000us         0.00%       2.000us       0.667us           0 b           0 b             3  \n",
      "                                       aten::lift_fresh         0.00%       0.000us         0.00%       0.000us       0.000us           0 b           0 b             2  \n",
      "                                          aten::detach_         0.00%       4.000us         0.00%      20.000us      10.000us           0 b           0 b             2  \n",
      "                                                detach_         0.00%      16.000us         0.00%      16.000us       8.000us           0 b           0 b             2  \n",
      "                                             aten::set_         0.00%      10.000us         0.00%      10.000us       5.000us           0 b           0 b             2  \n",
      "                                      aten::as_strided_         0.00%      16.000us         0.00%      16.000us       2.000us           0 b           0 b             8  \n",
      "                                             aten::view         0.00%      37.000us         0.00%      37.000us      37.000us           0 b           0 b             1  \n",
      "                                       aten::unsqueeze_         0.00%      11.000us         0.00%      13.000us       6.500us           0 b           0 b             2  \n",
      "                                         aten::squeeze_         0.00%       5.000us         0.00%       6.000us       3.000us           0 b           0 b             2  \n",
      "                                               [memory]         0.00%       0.000us         0.00%       0.000us       0.000us    -218.84 Mb    -218.84 Mb            21  \n",
      "-------------------------------------------------------  ------------  ------------  ------------  ------------  ------------  ------------  ------------  ------------  \n",
      "Self CPU time total: 2.901s\n",
      "\n"
     ]
    },
    {
     "name": "stderr",
     "output_type": "stream",
     "text": [
      "STAGE:2024-06-01 20:53:50 89423:25323328 ActivityProfilerController.cpp:300] Completed Stage: Collection\n"
     ]
    }
   ],
   "source": [
    "# memory footprint for the CNN model with quantization\n",
    "\n",
    "from torch.profiler import profile, record_function, ProfilerActivity\n",
    "with profile(activities=[ProfilerActivity.CPU],\n",
    "        profile_memory=True, record_shapes=True) as prof:\n",
    "    for data, label in test_loader:\n",
    "        data, label = data, label\n",
    "        with autocast():\n",
    "            out = net_int8(data)\n",
    "        _, pre = torch.max(out, 1)\n",
    "        break\n",
    "\n",
    "print(prof.key_averages().table(sort_by=\"cpu_memory_usage\"))"
   ]
  },
  {
   "cell_type": "code",
   "execution_count": 250,
   "id": "61fc4120",
   "metadata": {},
   "outputs": [
    {
     "name": "stderr",
     "output_type": "stream",
     "text": [
      "STAGE:2024-06-01 20:40:32 89423:25323328 ActivityProfilerController.cpp:294] Completed Stage: Warm Up\n",
      "python(1238) MallocStackLogging: can't turn off malloc stack logging because it was not enabled.\n",
      "python(1239) MallocStackLogging: can't turn off malloc stack logging because it was not enabled.\n",
      "python(1243) MallocStackLogging: can't turn off malloc stack logging because it was not enabled.\n",
      "python(1246) MallocStackLogging: can't turn off malloc stack logging because it was not enabled.\n"
     ]
    },
    {
     "name": "stdout",
     "output_type": "stream",
     "text": [
      "-------------------------------------------------------  ------------  ------------  ------------  ------------  ------------  ------------  \n",
      "                                                   Name    Self CPU %      Self CPU   CPU total %     CPU total  CPU time avg    # of Calls  \n",
      "-------------------------------------------------------  ------------  ------------  ------------  ------------  ------------  ------------  \n",
      "                                        model_inference        19.84%     352.247ms       100.00%        1.776s        1.776s             1  \n",
      "enumerate(DataLoader)#_MultiProcessingDataLoaderIter...        80.10%        1.422s        80.10%        1.422s        1.422s             1  \n",
      "                              quantized::linear_dynamic         0.04%     668.000us         0.04%     706.000us     235.333us             3  \n",
      "                                         aten::randperm         0.01%     131.000us         0.02%     395.000us     197.500us             2  \n",
      "                                            aten::empty         0.01%     153.000us         0.01%     153.000us      10.200us            15  \n",
      "                                    aten::scalar_tensor         0.00%      63.000us         0.00%      63.000us      63.000us             1  \n",
      "                                              aten::max         0.00%      51.000us         0.00%      58.000us      58.000us             1  \n",
      "                                            aten::zeros         0.00%      28.000us         0.00%      50.000us      25.000us             2  \n",
      "                                             aten::relu         0.00%      15.000us         0.00%      40.000us      20.000us             2  \n",
      "                                          aten::random_         0.00%      28.000us         0.00%      28.000us      14.000us             2  \n",
      "-------------------------------------------------------  ------------  ------------  ------------  ------------  ------------  ------------  \n",
      "Self CPU time total: 1.776s\n",
      "\n"
     ]
    },
    {
     "name": "stderr",
     "output_type": "stream",
     "text": [
      "STAGE:2024-06-01 20:40:34 89423:25323328 ActivityProfilerController.cpp:300] Completed Stage: Collection\n"
     ]
    }
   ],
   "source": [
    "# model inference speed for the student model with quantization\n",
    "\n",
    "from torch.profiler import profile, record_function, ProfilerActivity\n",
    "with profile(activities=[ProfilerActivity.CPU], record_shapes=True) as prof:\n",
    "    with record_function(\"model_inference\"):\n",
    "        for data, label in test_loader:\n",
    "            data, label = data, label\n",
    "            with autocast():\n",
    "                out = model_int8(data)\n",
    "            _, pre = torch.max(out, 1)\n",
    "            break\n",
    "\n",
    "print(prof.key_averages().table(sort_by=\"cpu_time_total\", row_limit=10))"
   ]
  },
  {
   "cell_type": "code",
   "execution_count": 257,
   "id": "925a6a50",
   "metadata": {},
   "outputs": [
    {
     "name": "stderr",
     "output_type": "stream",
     "text": [
      "STAGE:2024-06-01 20:55:41 89423:25323328 ActivityProfilerController.cpp:294] Completed Stage: Warm Up\n",
      "python(21355) MallocStackLogging: can't turn off malloc stack logging because it was not enabled.\n",
      "python(21358) MallocStackLogging: can't turn off malloc stack logging because it was not enabled.\n",
      "python(21359) MallocStackLogging: can't turn off malloc stack logging because it was not enabled.\n",
      "python(21362) MallocStackLogging: can't turn off malloc stack logging because it was not enabled.\n"
     ]
    },
    {
     "name": "stdout",
     "output_type": "stream",
     "text": [
      "-------------------------------------------------------  ------------  ------------  ------------  ------------  ------------  ------------  ------------  ------------  \n",
      "                                                   Name    Self CPU %      Self CPU   CPU total %     CPU total  CPU time avg       CPU Mem  Self CPU Mem    # of Calls  \n",
      "-------------------------------------------------------  ------------  ------------  ------------  ------------  ------------  ------------  ------------  ------------  \n",
      "enumerate(DataLoader)#_MultiProcessingDataLoaderIter...        99.91%        3.180s        99.92%        3.180s        3.180s       2.25 Mb       2.25 Mb             1  \n",
      "                                            aten::empty         0.01%     475.000us         0.01%     475.000us      25.000us     285.32 Kb     285.32 Kb            19  \n",
      "                              quantized::linear_dynamic         0.05%       1.654ms         0.05%       1.714ms     571.333us     131.00 Kb    -131.00 Kb             3  \n",
      "                                       aten::empty_like         0.00%       7.000us         0.00%      21.000us       7.000us     131.00 Kb           0 b             3  \n",
      "                                             aten::relu         0.00%       8.000us         0.00%      47.000us      23.500us     128.00 Kb           0 b             2  \n",
      "                                        aten::clamp_min         0.00%      39.000us         0.00%      39.000us      19.500us     128.00 Kb     128.00 Kb             2  \n",
      "                                         aten::randperm         0.01%     164.000us         0.01%     389.000us     194.500us      23.02 Kb          -8 b             2  \n",
      "                                              aten::max         0.00%      60.000us         0.00%      76.000us      76.000us       1.50 Kb       1.50 Kb             1  \n",
      "                                    aten::scalar_tensor         0.00%      29.000us         0.00%      29.000us      29.000us           8 b           8 b             1  \n",
      "                                            aten::zeros         0.00%      68.000us         0.00%     103.000us     103.000us           4 b           0 b             1  \n",
      "                                          aten::random_         0.00%      39.000us         0.00%      39.000us      19.500us           0 b           0 b             2  \n",
      "                                             aten::item         0.00%      23.000us         0.00%      25.000us      12.500us           0 b           0 b             2  \n",
      "                              aten::_local_scalar_dense         0.00%       2.000us         0.00%       2.000us       1.000us           0 b           0 b             2  \n",
      "                                          aten::resize_         0.00%       1.000us         0.00%       1.000us       0.500us           0 b           0 b             2  \n",
      "                                     aten::resolve_conj         0.00%       0.000us         0.00%       0.000us       0.000us           0 b           0 b             1  \n",
      "                                      aten::resolve_neg         0.00%       0.000us         0.00%       0.000us       0.000us           0 b           0 b             1  \n",
      "                                            aten::zero_         0.00%       1.000us         0.00%       1.000us       1.000us           0 b           0 b             1  \n",
      "                                               aten::to         0.00%       1.000us         0.00%       1.000us       0.091us           0 b           0 b            11  \n",
      "                                       aten::lift_fresh         0.00%       0.000us         0.00%       0.000us       0.000us           0 b           0 b             8  \n",
      "                                          aten::detach_         0.00%      17.000us         0.00%      74.000us       9.250us           0 b           0 b             8  \n",
      "                                                detach_         0.00%      57.000us         0.00%      57.000us       7.125us           0 b           0 b             8  \n",
      "                                             aten::set_         0.00%      40.000us         0.00%      40.000us       5.000us           0 b           0 b             8  \n",
      "                                          aten::flatten         0.00%      13.000us         0.00%      25.000us      25.000us           0 b           0 b             1  \n",
      "                                   aten::_reshape_alias         0.00%      12.000us         0.00%      12.000us      12.000us           0 b           0 b             1  \n",
      "                                       aten::unsqueeze_         0.00%       7.000us         0.00%       9.000us       4.500us           0 b           0 b             2  \n",
      "                                      aten::as_strided_         0.00%       2.000us         0.00%       2.000us       0.500us           0 b           0 b             4  \n",
      "                                         aten::squeeze_         0.00%       7.000us         0.00%       7.000us       3.500us           0 b           0 b             2  \n",
      "                                               [memory]         0.00%       0.000us         0.00%       0.000us       0.000us      -2.53 Mb      -2.53 Mb            18  \n",
      "-------------------------------------------------------  ------------  ------------  ------------  ------------  ------------  ------------  ------------  ------------  \n",
      "Self CPU time total: 3.183s\n",
      "\n"
     ]
    },
    {
     "name": "stderr",
     "output_type": "stream",
     "text": [
      "STAGE:2024-06-01 20:55:45 89423:25323328 ActivityProfilerController.cpp:300] Completed Stage: Collection\n"
     ]
    }
   ],
   "source": [
    "# memory footprint for the student model with quantization\n",
    "\n",
    "from torch.profiler import profile, record_function, ProfilerActivity\n",
    "with profile(activities=[ProfilerActivity.CPU],\n",
    "        profile_memory=True, record_shapes=True) as prof:\n",
    "    for data, label in test_loader:\n",
    "        data, label = data, label\n",
    "        with autocast():\n",
    "            out = model_int8(data)\n",
    "        _, pre = torch.max(out, 1)\n",
    "        break\n",
    "\n",
    "print(prof.key_averages().table(sort_by=\"cpu_memory_usage\"))"
   ]
  },
  {
   "cell_type": "code",
   "execution_count": 295,
   "id": "d23735d1",
   "metadata": {},
   "outputs": [
    {
     "name": "stdout",
     "output_type": "stream",
     "text": [
      "File size of state_dict: 2.204075 Mb\n"
     ]
    }
   ],
   "source": [
    "# check model size on disk for the original CNN model\n",
    "\n",
    "import os\n",
    "torch.save(net.state_dict(), 'net_state_dict.pth')\n",
    "state_dict = torch.load('net_state_dict.pth')\n",
    "\n",
    "# Calculate the size of the state dictionary in bytes\n",
    "#total_size = sum(param.numel() * param.element_size() for param in state_dict.values())\n",
    "#print(f'Total size of state_dict: {total_size} bytes')\n",
    "\n",
    "# Alternatively, check file size directly\n",
    "file_size = os.path.getsize('net_state_dict.pth')/1e6\n",
    "print(f'File size of state_dict: {file_size} Mb')"
   ]
  },
  {
   "cell_type": "code",
   "execution_count": 294,
   "id": "296ad9e8",
   "metadata": {},
   "outputs": [
    {
     "name": "stdout",
     "output_type": "stream",
     "text": [
      "File size of state_dict: 0.661663 Mb\n"
     ]
    }
   ],
   "source": [
    "# check model size on disk for the student model\n",
    "torch.save(model.state_dict(), 'model_state_dict.pth')\n",
    "state_dict = torch.load('model_state_dict.pth')\n",
    "\n",
    "# Calculate the size of the state dictionary in bytes\n",
    "#total_size = sum(param.numel() * param.element_size() for param in state_dict.values())\n",
    "#print(f'Total size of state_dict: {total_size} bytes')\n",
    "\n",
    "# Alternatively, check file size directly\n",
    "file_size = os.path.getsize('model_state_dict.pth')/1e6\n",
    "print(f'File size of state_dict: {file_size} Mb')"
   ]
  },
  {
   "cell_type": "code",
   "execution_count": 296,
   "id": "bc5e205d",
   "metadata": {},
   "outputs": [
    {
     "name": "stdout",
     "output_type": "stream",
     "text": [
      "File size of state_dict: 2.122141 Mb\n"
     ]
    }
   ],
   "source": [
    "# check model size on disk for the original CNN model with quantization\n",
    "torch.save(net_int8.state_dict(), 'net_int8_state_dict.pth')\n",
    "state_dict = torch.load('net_int8_state_dict.pth')\n",
    "\n",
    "# Calculate the size of the state dictionary in bytes\n",
    "#total_size = sum(param.numel() * param.element_size() for param in state_dict.values())\n",
    "#print(f'Total size of state_dict: {total_size} bytes')\n",
    "\n",
    "# Alternatively, check file size directly\n",
    "file_size = os.path.getsize('net_int8_state_dict.pth')/1e6\n",
    "print(f'File size of state_dict: {file_size} Mb')\n"
   ]
  },
  {
   "cell_type": "code",
   "execution_count": 293,
   "id": "88a78915",
   "metadata": {},
   "outputs": [
    {
     "name": "stdout",
     "output_type": "stream",
     "text": [
      "File size of state_dict: 0.170059 Mb\n"
     ]
    }
   ],
   "source": [
    "# check model size on disk for the student model with quantization\n",
    "torch.save(model_int8.state_dict(), 'quantized_model_state_dict.pth')\n",
    "state_dict = torch.load('quantized_model_state_dict.pth')\n",
    "\n",
    "#  check file size directly\n",
    "file_size = os.path.getsize('quantized_model_state_dict.pth')/1e6\n",
    "print(f'File size of state_dict: {file_size} Mb')"
   ]
  }
 ],
 "metadata": {
  "kernelspec": {
   "display_name": "Python 3 (ipykernel)",
   "language": "python",
   "name": "python3"
  },
  "language_info": {
   "codemirror_mode": {
    "name": "ipython",
    "version": 3
   },
   "file_extension": ".py",
   "mimetype": "text/x-python",
   "name": "python",
   "nbconvert_exporter": "python",
   "pygments_lexer": "ipython3",
   "version": "3.9.7"
  }
 },
 "nbformat": 4,
 "nbformat_minor": 5
}
